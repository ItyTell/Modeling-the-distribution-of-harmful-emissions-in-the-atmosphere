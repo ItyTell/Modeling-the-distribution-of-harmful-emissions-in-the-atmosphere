{
 "cells": [
  {
   "cell_type": "markdown",
   "metadata": {},
   "source": [
    "### Імпортування бібліотек"
   ]
  },
  {
   "cell_type": "code",
   "execution_count": 1,
   "metadata": {},
   "outputs": [
    {
     "name": "stderr",
     "output_type": "stream",
     "text": [
      "2024-06-14 10:49:35.371750: I tensorflow/core/util/port.cc:113] oneDNN custom operations are on. You may see slightly different numerical results due to floating-point round-off errors from different computation orders. To turn them off, set the environment variable `TF_ENABLE_ONEDNN_OPTS=0`.\n",
      "2024-06-14 10:49:35.400732: E external/local_xla/xla/stream_executor/cuda/cuda_dnn.cc:9261] Unable to register cuDNN factory: Attempting to register factory for plugin cuDNN when one has already been registered\n",
      "2024-06-14 10:49:35.400762: E external/local_xla/xla/stream_executor/cuda/cuda_fft.cc:607] Unable to register cuFFT factory: Attempting to register factory for plugin cuFFT when one has already been registered\n",
      "2024-06-14 10:49:35.401780: E external/local_xla/xla/stream_executor/cuda/cuda_blas.cc:1515] Unable to register cuBLAS factory: Attempting to register factory for plugin cuBLAS when one has already been registered\n",
      "2024-06-14 10:49:35.409853: I tensorflow/core/platform/cpu_feature_guard.cc:182] This TensorFlow binary is optimized to use available CPU instructions in performance-critical operations.\n",
      "To enable the following instructions: AVX2 AVX512F AVX512_VNNI AVX512_BF16 FMA, in other operations, rebuild TensorFlow with the appropriate compiler flags.\n",
      "2024-06-14 10:49:36.139229: W tensorflow/compiler/tf2tensorrt/utils/py_utils.cc:38] TF-TRT Warning: Could not find TensorRT\n"
     ]
    }
   ],
   "source": [
    "import numpy as np\n",
    "import pandas as pd\n",
    "import matplotlib as mpl\n",
    "import matplotlib.pyplot as plt\n",
    "import tensorflow as tf\n",
    "import netCDF4 as nc\n",
    "from sklearn.linear_model import LinearRegression\n",
    "import datetime "
   ]
  },
  {
   "cell_type": "markdown",
   "metadata": {},
   "source": [
    "### Перевірка застосування графічного процесора"
   ]
  },
  {
   "cell_type": "code",
   "execution_count": 2,
   "metadata": {},
   "outputs": [
    {
     "name": "stdout",
     "output_type": "stream",
     "text": [
      "[PhysicalDevice(name='/physical_device:GPU:0', device_type='GPU')]\n"
     ]
    },
    {
     "name": "stderr",
     "output_type": "stream",
     "text": [
      "2024-06-14 10:49:37.214920: I external/local_xla/xla/stream_executor/cuda/cuda_executor.cc:887] could not open file to read NUMA node: /sys/bus/pci/devices/0000:01:00.0/numa_node\n",
      "Your kernel may have been built without NUMA support.\n",
      "2024-06-14 10:49:37.256732: I external/local_xla/xla/stream_executor/cuda/cuda_executor.cc:887] could not open file to read NUMA node: /sys/bus/pci/devices/0000:01:00.0/numa_node\n",
      "Your kernel may have been built without NUMA support.\n",
      "2024-06-14 10:49:37.256783: I external/local_xla/xla/stream_executor/cuda/cuda_executor.cc:887] could not open file to read NUMA node: /sys/bus/pci/devices/0000:01:00.0/numa_node\n",
      "Your kernel may have been built without NUMA support.\n"
     ]
    }
   ],
   "source": [
    "#check if GPU is available\n",
    "print(tf.config.list_physical_devices('GPU'))"
   ]
  },
  {
   "cell_type": "markdown",
   "metadata": {},
   "source": [
    "### Завантажження данних у словник"
   ]
  },
  {
   "cell_type": "code",
   "execution_count": 3,
   "metadata": {},
   "outputs": [],
   "source": [
    "\n",
    "data = {\n",
    "    year: {\n",
    "            \"climate\": nc.Dataset(\"data/train/\" + year + \"/climate.nc\"),\n",
    "            \"polution\": nc.Dataset(\"data/train/\" + year + \"/polution.nc\"),\n",
    "        }\n",
    "    for year in [\"2021\", \"2022\", \"2023\"]\n",
    "}"
   ]
  },
  {
   "cell_type": "code",
   "execution_count": 4,
   "metadata": {},
   "outputs": [],
   "source": [
    "test = {\n",
    "        \"climate\": nc.Dataset(\"data/test/\" + \"/climate.nc\"),\n",
    "        \"polution\": nc.Dataset(\"data/test/\" + \"/polution.nc\"),\n",
    "}"
   ]
  },
  {
   "cell_type": "markdown",
   "metadata": {},
   "source": [
    "#### Кількість географічних точок на кліматичних данних і на данних про викидів різниться. \n",
    "#### Знаходжу спільні точки"
   ]
  },
  {
   "cell_type": "code",
   "execution_count": 5,
   "metadata": {},
   "outputs": [],
   "source": [
    "pol_lat_2021 = np.array(data[\"2021\"][\"polution\"].variables[\"latitude\"][: :-1])\n",
    "climate_lat_2021 = np.array(data[\"2021\"][\"climate\"].variables['lat'][:])\n",
    "sorter = np.argsort(pol_lat_2021)\n",
    "lats = -1 - np.searchsorted(pol_lat_2021, climate_lat_2021, sorter=sorter)\n",
    "\n",
    "\n",
    "pol_lon_2021 = np.array(data[\"2021\"][\"polution\"].variables[\"longitude\"][:])\n",
    "climate_lon_2021 = np.array(data[\"2021\"][\"climate\"].variables['lon'][:])\n",
    "sorter = np.argsort(pol_lon_2021)\n",
    "lons = np.searchsorted(pol_lon_2021, climate_lon_2021, sorter=sorter)"
   ]
  },
  {
   "cell_type": "markdown",
   "metadata": {},
   "source": [
    "### Завантаження данних у множину датафреймів"
   ]
  },
  {
   "cell_type": "markdown",
   "metadata": {},
   "source": [
    "Одразу позбуваємось даних про вітер на висоті 50 метрів"
   ]
  },
  {
   "cell_type": "code",
   "execution_count": 6,
   "metadata": {},
   "outputs": [],
   "source": [
    "start_date = datetime.date(2021, 1, 1); end_date = datetime.date(2023, 12, 31)\n",
    "time = [start_date + datetime.timedelta(days=i) for i in range((end_date - start_date).days + 1)]\n",
    "\n",
    "train_data = {}\n",
    "\n",
    "atributes_climate = list(data[\"2021\"][\"climate\"].variables.keys())[:-3]\n",
    "atributes_climate.remove(\"WS50M\")\n",
    "atributes_climate.remove(\"WD50M\")\n",
    "atributes_polution = list(data[\"2021\"][\"polution\"].variables.keys())[4:]\n",
    "\n",
    "for i in range(len(lats)):\n",
    "    for j in range(len(lons)):\n",
    "\n",
    "        i_p = lats[i]\n",
    "        j_p = lons[j]\n",
    "\n",
    "        _data = {\n",
    "            atribute: np.array(data[\"2021\"][\"climate\"].variables[atribute][:, i, j])\n",
    "            for atribute in atributes_climate\n",
    "        }\n",
    "\n",
    "        for atribute in atributes_polution:\n",
    "            _data[atribute] = np.array(data[\"2021\"][\"polution\"].variables[atribute][:, 0, i_p, j_p])\n",
    "\n",
    "\n",
    "        _data[\"time\"] = time\n",
    "\n",
    "        for year in [\"2022\", \"2023\"]:\n",
    "            for atribute in atributes_climate:\n",
    "                _data[atribute] = np.append(_data[atribute], np.array(data[year][\"climate\"].variables[atribute][:, 0, 0]))\n",
    "            for atribute in atributes_polution:\n",
    "                _data[atribute] = np.append(_data[atribute], np.array(data[year][\"polution\"].variables[atribute][:, 0, 0, -1]))\n",
    "        \n",
    "        train_data[str(float(data[\"2021\"][\"climate\"].variables[\"lat\"][i])) + \"x\" + str(float(data[\"2021\"][\"climate\"].variables[\"lon\"][j]))]= pd.DataFrame(_data)\n"
   ]
  },
  {
   "cell_type": "code",
   "execution_count": 7,
   "metadata": {},
   "outputs": [],
   "source": [
    "test_data = {}\n",
    "start_date = datetime.date(2024, 1, 1); end_date = datetime.date(2024, 3, 31)\n",
    "time = [start_date + datetime.timedelta(days=i) for i in range((end_date - start_date).days + 1)]\n",
    "\n",
    "for i in range(len(lats)):\n",
    "    for j in range(len(lons)):\n",
    "\n",
    "        i_p = lats[i]\n",
    "        j_p = lons[j]\n",
    "\n",
    "        _data = {\n",
    "            atribute: np.array(test[\"climate\"].variables[atribute][:, i, j])\n",
    "            for atribute in atributes_climate\n",
    "        }\n",
    "\n",
    "        for atribute in atributes_polution:\n",
    "            _data[atribute] = np.array(test[\"polution\"].variables[atribute][:, 0, i_p, j_p])\n",
    "\n",
    "\n",
    "        _data[\"time\"] = time\n",
    "\n",
    "        test_data[str(float(data[\"2021\"][\"climate\"].variables[\"lat\"][i])) + \"x\" + str(float(data[\"2021\"][\"climate\"].variables[\"lon\"][j]))]= pd.DataFrame(_data)\n"
   ]
  },
  {
   "cell_type": "code",
   "execution_count": 8,
   "metadata": {},
   "outputs": [],
   "source": [
    "def norm(smth):\n",
    "    smth = smth - np.min(smth)\n",
    "    smth = smth/np.max(smth)\n",
    "    return smth\n",
    "\n",
    "def log_norm(smth):\n",
    "    smth = np.log(1 + smth)\n",
    "    return norm(smth)"
   ]
  },
  {
   "cell_type": "code",
   "execution_count": 9,
   "metadata": {},
   "outputs": [],
   "source": [
    "sample = train_data[\"44.25x30.75\"].copy()\n",
    "sample_test = test_data[\"44.25x30.75\"].copy()"
   ]
  },
  {
   "cell_type": "code",
   "execution_count": 10,
   "metadata": {},
   "outputs": [
    {
     "data": {
      "text/html": [
       "<div>\n",
       "<style scoped>\n",
       "    .dataframe tbody tr th:only-of-type {\n",
       "        vertical-align: middle;\n",
       "    }\n",
       "\n",
       "    .dataframe tbody tr th {\n",
       "        vertical-align: top;\n",
       "    }\n",
       "\n",
       "    .dataframe thead th {\n",
       "        text-align: right;\n",
       "    }\n",
       "</style>\n",
       "<table border=\"1\" class=\"dataframe\">\n",
       "  <thead>\n",
       "    <tr style=\"text-align: right;\">\n",
       "      <th></th>\n",
       "      <th>ALLSKY_SFC_SW_DWN</th>\n",
       "      <th>WD10M</th>\n",
       "      <th>QV2M</th>\n",
       "      <th>PS</th>\n",
       "      <th>WS10M</th>\n",
       "      <th>T2M</th>\n",
       "      <th>co_conc</th>\n",
       "      <th>no2_conc</th>\n",
       "      <th>no_conc</th>\n",
       "      <th>o3_conc</th>\n",
       "      <th>pm10_conc</th>\n",
       "      <th>pm2p5_conc</th>\n",
       "      <th>so2_conc</th>\n",
       "      <th>time</th>\n",
       "    </tr>\n",
       "  </thead>\n",
       "  <tbody>\n",
       "    <tr>\n",
       "      <th>0</th>\n",
       "      <td>0.269043</td>\n",
       "      <td>0.885004</td>\n",
       "      <td>0.454919</td>\n",
       "      <td>0.567388</td>\n",
       "      <td>0.610355</td>\n",
       "      <td>0.694195</td>\n",
       "      <td>0.297221</td>\n",
       "      <td>2.526610</td>\n",
       "      <td>0.559673</td>\n",
       "      <td>0.375551</td>\n",
       "      <td>0.535488</td>\n",
       "      <td>0.510513</td>\n",
       "      <td>1.706610</td>\n",
       "      <td>2021-01-01</td>\n",
       "    </tr>\n",
       "    <tr>\n",
       "      <th>1</th>\n",
       "      <td>0.449505</td>\n",
       "      <td>0.822524</td>\n",
       "      <td>0.332772</td>\n",
       "      <td>0.760872</td>\n",
       "      <td>0.449125</td>\n",
       "      <td>0.664428</td>\n",
       "      <td>0.398022</td>\n",
       "      <td>0.953106</td>\n",
       "      <td>0.170985</td>\n",
       "      <td>0.469237</td>\n",
       "      <td>0.469305</td>\n",
       "      <td>0.473638</td>\n",
       "      <td>2.275357</td>\n",
       "      <td>2021-01-02</td>\n",
       "    </tr>\n",
       "    <tr>\n",
       "      <th>2</th>\n",
       "      <td>0.358171</td>\n",
       "      <td>0.699968</td>\n",
       "      <td>0.439985</td>\n",
       "      <td>0.742353</td>\n",
       "      <td>0.667446</td>\n",
       "      <td>0.673773</td>\n",
       "      <td>0.297877</td>\n",
       "      <td>0.590444</td>\n",
       "      <td>0.064119</td>\n",
       "      <td>0.606194</td>\n",
       "      <td>0.676444</td>\n",
       "      <td>0.466534</td>\n",
       "      <td>0.888747</td>\n",
       "      <td>2021-01-03</td>\n",
       "    </tr>\n",
       "    <tr>\n",
       "      <th>3</th>\n",
       "      <td>0.190263</td>\n",
       "      <td>0.706666</td>\n",
       "      <td>0.477366</td>\n",
       "      <td>0.651348</td>\n",
       "      <td>0.548200</td>\n",
       "      <td>0.671218</td>\n",
       "      <td>0.287901</td>\n",
       "      <td>0.792554</td>\n",
       "      <td>0.099135</td>\n",
       "      <td>0.612410</td>\n",
       "      <td>0.756116</td>\n",
       "      <td>0.703906</td>\n",
       "      <td>1.191523</td>\n",
       "      <td>2021-01-04</td>\n",
       "    </tr>\n",
       "    <tr>\n",
       "      <th>4</th>\n",
       "      <td>0.208614</td>\n",
       "      <td>0.810651</td>\n",
       "      <td>0.474516</td>\n",
       "      <td>0.548686</td>\n",
       "      <td>0.624359</td>\n",
       "      <td>0.687206</td>\n",
       "      <td>0.344157</td>\n",
       "      <td>2.439456</td>\n",
       "      <td>0.288225</td>\n",
       "      <td>0.497168</td>\n",
       "      <td>0.730189</td>\n",
       "      <td>0.746955</td>\n",
       "      <td>1.623917</td>\n",
       "      <td>2021-01-05</td>\n",
       "    </tr>\n",
       "  </tbody>\n",
       "</table>\n",
       "</div>"
      ],
      "text/plain": [
       "   ALLSKY_SFC_SW_DWN     WD10M      QV2M        PS     WS10M       T2M  \\\n",
       "0           0.269043  0.885004  0.454919  0.567388  0.610355  0.694195   \n",
       "1           0.449505  0.822524  0.332772  0.760872  0.449125  0.664428   \n",
       "2           0.358171  0.699968  0.439985  0.742353  0.667446  0.673773   \n",
       "3           0.190263  0.706666  0.477366  0.651348  0.548200  0.671218   \n",
       "4           0.208614  0.810651  0.474516  0.548686  0.624359  0.687206   \n",
       "\n",
       "    co_conc  no2_conc   no_conc   o3_conc  pm10_conc  pm2p5_conc  so2_conc  \\\n",
       "0  0.297221  2.526610  0.559673  0.375551   0.535488    0.510513  1.706610   \n",
       "1  0.398022  0.953106  0.170985  0.469237   0.469305    0.473638  2.275357   \n",
       "2  0.297877  0.590444  0.064119  0.606194   0.676444    0.466534  0.888747   \n",
       "3  0.287901  0.792554  0.099135  0.612410   0.756116    0.703906  1.191523   \n",
       "4  0.344157  2.439456  0.288225  0.497168   0.730189    0.746955  1.623917   \n",
       "\n",
       "         time  \n",
       "0  2021-01-01  \n",
       "1  2021-01-02  \n",
       "2  2021-01-03  \n",
       "3  2021-01-04  \n",
       "4  2021-01-05  "
      ]
     },
     "execution_count": 10,
     "metadata": {},
     "output_type": "execute_result"
    }
   ],
   "source": [
    "sample[\"co_conc\"] = log_norm(sample[\"co_conc\"])\n",
    "sample[\"pm10_conc\"] = log_norm(sample[\"pm10_conc\"])\n",
    "sample[\"pm2p5_conc\"] = log_norm(sample[\"pm2p5_conc\"])\n",
    "sample[\"o3_conc\"] = norm(sample[\"o3_conc\"])\n",
    "\n",
    "sample_test[\"co_conc\"] = log_norm(sample_test[\"co_conc\"])\n",
    "sample_test[\"pm10_conc\"] = log_norm(sample_test[\"pm10_conc\"])\n",
    "sample_test[\"pm2p5_conc\"] = log_norm(sample_test[\"pm2p5_conc\"])\n",
    "sample_test[\"o3_conc\"] = norm(sample_test[\"o3_conc\"])\n",
    "\n",
    "\n",
    "for i in atributes_climate:\n",
    "    sample[i] = log_norm(sample[i])\n",
    "    sample_test[i] = log_norm(sample_test[i])\n",
    "sample.head()"
   ]
  },
  {
   "cell_type": "code",
   "execution_count": 11,
   "metadata": {},
   "outputs": [
    {
     "name": "stderr",
     "output_type": "stream",
     "text": [
      "/tmp/ipykernel_52980/3103814991.py:40: SettingWithCopyWarning: \n",
      "A value is trying to be set on a copy of a slice from a DataFrame.\n",
      "Try using .loc[row_indexer,col_indexer] = value instead\n",
      "\n",
      "See the caveats in the documentation: https://pandas.pydata.org/pandas-docs/stable/user_guide/indexing.html#returning-a-view-versus-a-copy\n",
      "  params[\"co_conc\"] = co_conc\n",
      "/tmp/ipykernel_52980/3103814991.py:41: SettingWithCopyWarning: \n",
      "A value is trying to be set on a copy of a slice from a DataFrame.\n",
      "Try using .loc[row_indexer,col_indexer] = value instead\n",
      "\n",
      "See the caveats in the documentation: https://pandas.pydata.org/pandas-docs/stable/user_guide/indexing.html#returning-a-view-versus-a-copy\n",
      "  params[\"pm10_conc\"] = pm10_conc\n",
      "/tmp/ipykernel_52980/3103814991.py:42: SettingWithCopyWarning: \n",
      "A value is trying to be set on a copy of a slice from a DataFrame.\n",
      "Try using .loc[row_indexer,col_indexer] = value instead\n",
      "\n",
      "See the caveats in the documentation: https://pandas.pydata.org/pandas-docs/stable/user_guide/indexing.html#returning-a-view-versus-a-copy\n",
      "  params[\"pm2p5_conc\"] = pm2p5_conc\n",
      "/tmp/ipykernel_52980/3103814991.py:43: SettingWithCopyWarning: \n",
      "A value is trying to be set on a copy of a slice from a DataFrame.\n",
      "Try using .loc[row_indexer,col_indexer] = value instead\n",
      "\n",
      "See the caveats in the documentation: https://pandas.pydata.org/pandas-docs/stable/user_guide/indexing.html#returning-a-view-versus-a-copy\n",
      "  params[\"o3_conc\"] = o3_conc\n",
      "/tmp/ipykernel_52980/3103814991.py:46: SettingWithCopyWarning: \n",
      "A value is trying to be set on a copy of a slice from a DataFrame.\n",
      "Try using .loc[row_indexer,col_indexer] = value instead\n",
      "\n",
      "See the caveats in the documentation: https://pandas.pydata.org/pandas-docs/stable/user_guide/indexing.html#returning-a-view-versus-a-copy\n",
      "  params_test[\"co_conc\"] = co_conc_test\n",
      "/tmp/ipykernel_52980/3103814991.py:47: SettingWithCopyWarning: \n",
      "A value is trying to be set on a copy of a slice from a DataFrame.\n",
      "Try using .loc[row_indexer,col_indexer] = value instead\n",
      "\n",
      "See the caveats in the documentation: https://pandas.pydata.org/pandas-docs/stable/user_guide/indexing.html#returning-a-view-versus-a-copy\n",
      "  params_test[\"pm10_conc\"] = pm10_conc_test\n",
      "/tmp/ipykernel_52980/3103814991.py:48: SettingWithCopyWarning: \n",
      "A value is trying to be set on a copy of a slice from a DataFrame.\n",
      "Try using .loc[row_indexer,col_indexer] = value instead\n",
      "\n",
      "See the caveats in the documentation: https://pandas.pydata.org/pandas-docs/stable/user_guide/indexing.html#returning-a-view-versus-a-copy\n",
      "  params_test[\"pm2p5_conc\"] = pm2p5_conc_test\n",
      "/tmp/ipykernel_52980/3103814991.py:49: SettingWithCopyWarning: \n",
      "A value is trying to be set on a copy of a slice from a DataFrame.\n",
      "Try using .loc[row_indexer,col_indexer] = value instead\n",
      "\n",
      "See the caveats in the documentation: https://pandas.pydata.org/pandas-docs/stable/user_guide/indexing.html#returning-a-view-versus-a-copy\n",
      "  params_test[\"o3_conc\"] = o3_conc_test\n"
     ]
    },
    {
     "data": {
      "text/html": [
       "<div>\n",
       "<style scoped>\n",
       "    .dataframe tbody tr th:only-of-type {\n",
       "        vertical-align: middle;\n",
       "    }\n",
       "\n",
       "    .dataframe tbody tr th {\n",
       "        vertical-align: top;\n",
       "    }\n",
       "\n",
       "    .dataframe thead th {\n",
       "        text-align: right;\n",
       "    }\n",
       "</style>\n",
       "<table border=\"1\" class=\"dataframe\">\n",
       "  <thead>\n",
       "    <tr style=\"text-align: right;\">\n",
       "      <th></th>\n",
       "      <th>ALLSKY_SFC_SW_DWN</th>\n",
       "      <th>WD10M</th>\n",
       "      <th>QV2M</th>\n",
       "      <th>PS</th>\n",
       "      <th>WS10M</th>\n",
       "      <th>T2M</th>\n",
       "      <th>co_conc</th>\n",
       "      <th>pm10_conc</th>\n",
       "      <th>pm2p5_conc</th>\n",
       "      <th>o3_conc</th>\n",
       "    </tr>\n",
       "  </thead>\n",
       "  <tbody>\n",
       "    <tr>\n",
       "      <th>0</th>\n",
       "      <td>0.269043</td>\n",
       "      <td>0.885004</td>\n",
       "      <td>0.454919</td>\n",
       "      <td>0.567388</td>\n",
       "      <td>0.610355</td>\n",
       "      <td>0.694195</td>\n",
       "      <td>0.297221</td>\n",
       "      <td>0.535488</td>\n",
       "      <td>0.510513</td>\n",
       "      <td>0.375551</td>\n",
       "    </tr>\n",
       "    <tr>\n",
       "      <th>1</th>\n",
       "      <td>0.449505</td>\n",
       "      <td>0.822524</td>\n",
       "      <td>0.332772</td>\n",
       "      <td>0.760872</td>\n",
       "      <td>0.449125</td>\n",
       "      <td>0.664428</td>\n",
       "      <td>0.297221</td>\n",
       "      <td>0.535488</td>\n",
       "      <td>0.510513</td>\n",
       "      <td>0.375551</td>\n",
       "    </tr>\n",
       "    <tr>\n",
       "      <th>2</th>\n",
       "      <td>0.358171</td>\n",
       "      <td>0.699968</td>\n",
       "      <td>0.439985</td>\n",
       "      <td>0.742353</td>\n",
       "      <td>0.667446</td>\n",
       "      <td>0.673773</td>\n",
       "      <td>0.398022</td>\n",
       "      <td>0.469305</td>\n",
       "      <td>0.473638</td>\n",
       "      <td>0.469237</td>\n",
       "    </tr>\n",
       "    <tr>\n",
       "      <th>3</th>\n",
       "      <td>0.190263</td>\n",
       "      <td>0.706666</td>\n",
       "      <td>0.477366</td>\n",
       "      <td>0.651348</td>\n",
       "      <td>0.548200</td>\n",
       "      <td>0.671218</td>\n",
       "      <td>0.297877</td>\n",
       "      <td>0.676444</td>\n",
       "      <td>0.466534</td>\n",
       "      <td>0.606194</td>\n",
       "    </tr>\n",
       "    <tr>\n",
       "      <th>4</th>\n",
       "      <td>0.208614</td>\n",
       "      <td>0.810651</td>\n",
       "      <td>0.474516</td>\n",
       "      <td>0.548686</td>\n",
       "      <td>0.624359</td>\n",
       "      <td>0.687206</td>\n",
       "      <td>0.287901</td>\n",
       "      <td>0.756116</td>\n",
       "      <td>0.703906</td>\n",
       "      <td>0.612410</td>\n",
       "    </tr>\n",
       "    <tr>\n",
       "      <th>...</th>\n",
       "      <td>...</td>\n",
       "      <td>...</td>\n",
       "      <td>...</td>\n",
       "      <td>...</td>\n",
       "      <td>...</td>\n",
       "      <td>...</td>\n",
       "      <td>...</td>\n",
       "      <td>...</td>\n",
       "      <td>...</td>\n",
       "      <td>...</td>\n",
       "    </tr>\n",
       "    <tr>\n",
       "      <th>1090</th>\n",
       "      <td>0.418688</td>\n",
       "      <td>0.907523</td>\n",
       "      <td>0.428538</td>\n",
       "      <td>0.643893</td>\n",
       "      <td>0.600576</td>\n",
       "      <td>0.671859</td>\n",
       "      <td>0.363551</td>\n",
       "      <td>0.199341</td>\n",
       "      <td>0.114184</td>\n",
       "      <td>0.485521</td>\n",
       "    </tr>\n",
       "    <tr>\n",
       "      <th>1091</th>\n",
       "      <td>0.382203</td>\n",
       "      <td>0.734391</td>\n",
       "      <td>0.301301</td>\n",
       "      <td>0.807091</td>\n",
       "      <td>0.499211</td>\n",
       "      <td>0.634175</td>\n",
       "      <td>0.369335</td>\n",
       "      <td>0.146640</td>\n",
       "      <td>0.156933</td>\n",
       "      <td>0.425808</td>\n",
       "    </tr>\n",
       "    <tr>\n",
       "      <th>1092</th>\n",
       "      <td>0.426988</td>\n",
       "      <td>0.898679</td>\n",
       "      <td>0.411348</td>\n",
       "      <td>0.666231</td>\n",
       "      <td>0.576074</td>\n",
       "      <td>0.650121</td>\n",
       "      <td>0.445790</td>\n",
       "      <td>0.347094</td>\n",
       "      <td>0.383669</td>\n",
       "      <td>0.414040</td>\n",
       "    </tr>\n",
       "    <tr>\n",
       "      <th>1093</th>\n",
       "      <td>0.318726</td>\n",
       "      <td>0.903820</td>\n",
       "      <td>0.387919</td>\n",
       "      <td>0.638311</td>\n",
       "      <td>0.417023</td>\n",
       "      <td>0.620460</td>\n",
       "      <td>0.468065</td>\n",
       "      <td>0.538743</td>\n",
       "      <td>0.590444</td>\n",
       "      <td>0.293514</td>\n",
       "    </tr>\n",
       "    <tr>\n",
       "      <th>1094</th>\n",
       "      <td>0.426988</td>\n",
       "      <td>0.876647</td>\n",
       "      <td>0.373752</td>\n",
       "      <td>0.662513</td>\n",
       "      <td>0.382445</td>\n",
       "      <td>0.618617</td>\n",
       "      <td>0.471571</td>\n",
       "      <td>0.523256</td>\n",
       "      <td>0.592564</td>\n",
       "      <td>0.329455</td>\n",
       "    </tr>\n",
       "  </tbody>\n",
       "</table>\n",
       "<p>1095 rows × 10 columns</p>\n",
       "</div>"
      ],
      "text/plain": [
       "      ALLSKY_SFC_SW_DWN     WD10M      QV2M        PS     WS10M       T2M  \\\n",
       "0              0.269043  0.885004  0.454919  0.567388  0.610355  0.694195   \n",
       "1              0.449505  0.822524  0.332772  0.760872  0.449125  0.664428   \n",
       "2              0.358171  0.699968  0.439985  0.742353  0.667446  0.673773   \n",
       "3              0.190263  0.706666  0.477366  0.651348  0.548200  0.671218   \n",
       "4              0.208614  0.810651  0.474516  0.548686  0.624359  0.687206   \n",
       "...                 ...       ...       ...       ...       ...       ...   \n",
       "1090           0.418688  0.907523  0.428538  0.643893  0.600576  0.671859   \n",
       "1091           0.382203  0.734391  0.301301  0.807091  0.499211  0.634175   \n",
       "1092           0.426988  0.898679  0.411348  0.666231  0.576074  0.650121   \n",
       "1093           0.318726  0.903820  0.387919  0.638311  0.417023  0.620460   \n",
       "1094           0.426988  0.876647  0.373752  0.662513  0.382445  0.618617   \n",
       "\n",
       "       co_conc  pm10_conc  pm2p5_conc   o3_conc  \n",
       "0     0.297221   0.535488    0.510513  0.375551  \n",
       "1     0.297221   0.535488    0.510513  0.375551  \n",
       "2     0.398022   0.469305    0.473638  0.469237  \n",
       "3     0.297877   0.676444    0.466534  0.606194  \n",
       "4     0.287901   0.756116    0.703906  0.612410  \n",
       "...        ...        ...         ...       ...  \n",
       "1090  0.363551   0.199341    0.114184  0.485521  \n",
       "1091  0.369335   0.146640    0.156933  0.425808  \n",
       "1092  0.445790   0.347094    0.383669  0.414040  \n",
       "1093  0.468065   0.538743    0.590444  0.293514  \n",
       "1094  0.471571   0.523256    0.592564  0.329455  \n",
       "\n",
       "[1095 rows x 10 columns]"
      ]
     },
     "execution_count": 11,
     "metadata": {},
     "output_type": "execute_result"
    }
   ],
   "source": [
    "params = sample.get(atributes_climate)\n",
    "params_test = sample_test.get(atributes_climate)\n",
    "\n",
    "co_conc = np.array(sample.get(\"co_conc\"))\n",
    "pm10_conc = np.array(sample.get(\"pm10_conc\"))\n",
    "pm2p5_conc = np.array(sample.get(\"pm2p5_conc\"))\n",
    "o3_conc = np.array(sample.get(\"o3_conc\"))\n",
    "\n",
    "co_conc_test = np.array(sample_test.get(\"co_conc\"))\n",
    "pm10_conc_test = np.array(sample_test.get(\"pm10_conc\"))\n",
    "pm2p5_conc_test = np.array(sample_test.get(\"pm2p5_conc\"))\n",
    "o3_conc_test = np.array(sample_test.get(\"o3_conc\"))\n",
    "\n",
    "period = 1\n",
    "for i in range(period):\n",
    "    co_conc[i] = sample[\"co_conc\"][0]\n",
    "    pm10_conc[i] = sample[\"pm10_conc\"][0]\n",
    "    pm2p5_conc[i] = sample[\"pm2p5_conc\"][0]\n",
    "    o3_conc[i] = sample[\"o3_conc\"][0]\n",
    "\n",
    "\n",
    "    co_conc_test[i] = sample_test[\"co_conc\"][0]\n",
    "    pm10_conc_test[i] = sample_test[\"pm10_conc\"][0]\n",
    "    pm2p5_conc_test[i] = sample_test[\"pm2p5_conc\"][0]\n",
    "    o3_conc_test[i] = sample_test[\"o3_conc\"][0]\n",
    "\n",
    "\n",
    "for i in range(len(co_conc) - period):\n",
    "    co_conc[i + period] = sample[\"co_conc\"][i]\n",
    "    pm10_conc[i + period] = sample[\"pm10_conc\"][i]\n",
    "    pm2p5_conc[i + period] = sample[\"pm2p5_conc\"][i]\n",
    "    o3_conc[i + period] = sample[\"o3_conc\"][i]\n",
    "\n",
    "for i in range(len(co_conc_test) - period):\n",
    "    co_conc_test[i + period] = sample_test[\"co_conc\"][i]\n",
    "    pm10_conc_test[i + period] = sample_test[\"pm10_conc\"][i]\n",
    "    pm2p5_conc_test[i + period] = sample_test[\"pm2p5_conc\"][i]\n",
    "    o3_conc_test[i + period] = sample_test[\"o3_conc\"][i]\n",
    "\n",
    "params[\"co_conc\"] = co_conc\n",
    "params[\"pm10_conc\"] = pm10_conc\n",
    "params[\"pm2p5_conc\"] = pm2p5_conc\n",
    "params[\"o3_conc\"] = o3_conc\n",
    "\n",
    "\n",
    "params_test[\"co_conc\"] = co_conc_test\n",
    "params_test[\"pm10_conc\"] = pm10_conc_test\n",
    "params_test[\"pm2p5_conc\"] = pm2p5_conc_test\n",
    "params_test[\"o3_conc\"] = o3_conc_test\n",
    "\n",
    "params"
   ]
  },
  {
   "cell_type": "code",
   "execution_count": 12,
   "metadata": {},
   "outputs": [],
   "source": [
    "result_test = sample_test.get([\"co_conc\", \"pm10_conc\", \"pm2p5_conc\", \"o3_conc\"])"
   ]
  },
  {
   "cell_type": "code",
   "execution_count": 13,
   "metadata": {},
   "outputs": [],
   "source": [
    "result = sample.get([\"co_conc\", \"pm10_conc\", \"pm2p5_conc\", \"o3_conc\"])"
   ]
  },
  {
   "cell_type": "code",
   "execution_count": 14,
   "metadata": {},
   "outputs": [
    {
     "name": "stdout",
     "output_type": "stream",
     "text": [
      "coeficients =  [[-0.07277843  0.01966375 -0.01730353  0.02088133 -0.01367028 -0.02961228\n",
      "   0.7141616   0.08657718 -0.11445416  0.05833074]\n",
      " [-0.05098315  0.01565439  0.20456742  0.0333698  -0.05788686 -0.25909585\n",
      "   0.14588802  0.657844   -0.25067288  0.13360421]\n",
      " [-0.03625394  0.02564041  0.2554779   0.06010515 -0.1021494  -0.34026822\n",
      "   0.17511114  0.23860456  0.1344353   0.12560147]\n",
      " [ 0.17135097 -0.05922762  0.20204099  0.01065647 -0.02673335 -0.31681752\n",
      "   0.08519619  0.12023737 -0.09573757  0.623516  ]]\n",
      "intercept =  [0.1234163  0.24246237 0.28314596 0.26592523]\n",
      "score =  0.4586388700450863\n"
     ]
    }
   ],
   "source": [
    "model = LinearRegression().fit(params, result)\n",
    "print(\"coeficients = \", model.coef_)\n",
    "print(\"intercept = \", model.intercept_)\n",
    "print(\"score = \", model.score(params, result))"
   ]
  },
  {
   "cell_type": "code",
   "execution_count": 15,
   "metadata": {},
   "outputs": [],
   "source": [
    "prediction = np.array(model.predict(params))"
   ]
  },
  {
   "cell_type": "code",
   "execution_count": 16,
   "metadata": {},
   "outputs": [
    {
     "name": "stdout",
     "output_type": "stream",
     "text": [
      "co_conc\n",
      "max difference =  0.5121092796325684 = 164.32165378757105 % mean difference =  0.051783647 = 16.615934669971466 % \n",
      "pm10_conc\n",
      "max difference =  0.6122204065322876 = 146.63766469400525 % mean difference =  0.10659134 = 25.53052008152008 % \n",
      "pm2p5_conc\n",
      "max difference =  0.6742343902587891 = 158.19134707522014 % mean difference =  0.11712361 = 27.479970455169678 % \n",
      "o3_conc\n",
      "max difference =  0.4476340711116791 = 75.06809057125511 % mean difference =  0.08102329 = 13.587580621242523 % \n"
     ]
    }
   ],
   "source": [
    "for i, j in enumerate([\"co_conc\", \"pm10_conc\", \"pm2p5_conc\", \"o3_conc\"]):\n",
    "    print(j)\n",
    "    print(\"max difference = \", np.max(np.abs(prediction.T[i] - result[j])), \"=\", np.max(np.abs(prediction.T[i] - result[j])) / np.mean(result[j])*100, \"% \"\n",
    "            \"mean difference = \" ,np.mean(np.abs(prediction.T[i] - result[j])), \"=\" , np.mean(np.abs(prediction.T[i] - result[j])) / np.mean(result[j])*100, \"% \")"
   ]
  },
  {
   "cell_type": "code",
   "execution_count": 17,
   "metadata": {},
   "outputs": [
    {
     "name": "stdout",
     "output_type": "stream",
     "text": [
      "co_conc\n",
      "max difference =  0.6539776921272278 = 209.8432896736964 % mean difference =  0.05392327 = 17.302481830120087 % \n",
      "pm10_conc\n",
      "max difference =  0.8237142562866211 = 197.29419932469906 % mean difference =  0.12041095 = 28.84056270122528 % \n",
      "pm2p5_conc\n",
      "max difference =  0.7831641435623169 = 183.74884556627526 % mean difference =  0.13648252 = 32.02202916145325 % \n",
      "o3_conc\n",
      "max difference =  0.49222955107688904 = 82.54673829970687 % mean difference =  0.08908538 = 14.93958979845047 % \n"
     ]
    }
   ],
   "source": [
    "for i, j in enumerate([\"co_conc\", \"pm10_conc\", \"pm2p5_conc\", \"o3_conc\"]):\n",
    "    print(j)\n",
    "    print(\"max difference = \", np.max(np.abs(params[j] - result[j])), \"=\", np.max(np.abs(params[j] - result[j])) / np.mean(result[j]) * 100, \"% \"\n",
    "            \"mean difference = \" ,np.mean(np.abs(params[j] - result[j])), \"=\" , np.mean(np.abs(params[j] - result[j])) / np.mean(result[j]) * 100, \"% \")"
   ]
  },
  {
   "cell_type": "code",
   "execution_count": 18,
   "metadata": {},
   "outputs": [],
   "source": [
    "prediction_test = np.array(model.predict(params_test))"
   ]
  },
  {
   "cell_type": "code",
   "execution_count": 19,
   "metadata": {},
   "outputs": [
    {
     "name": "stdout",
     "output_type": "stream",
     "text": [
      "co_conc\n",
      "max difference =  0.6230512857437134 = 125.86019324167658 % mean difference =  0.17632233 = 35.618194937705994 % \n",
      "pm10_conc\n",
      "max difference =  0.5310489535331726 = 124.96907866628553 % mean difference =  0.1676483 = 39.451831579208374 % \n",
      "pm2p5_conc\n",
      "max difference =  0.512850284576416 = 94.58180019806314 % mean difference =  0.16116373 = 29.72242832183838 % \n",
      "o3_conc\n",
      "max difference =  0.4724677801132202 = 84.48348245256054 % mean difference =  0.13630809 = 24.37368780374527 % \n"
     ]
    }
   ],
   "source": [
    "for i, j in enumerate([\"co_conc\", \"pm10_conc\", \"pm2p5_conc\", \"o3_conc\"]):\n",
    "    print(j)\n",
    "    print(\"max difference = \", np.max(np.abs(prediction_test.T[i] - result_test[j])), \"=\", np.max(np.abs(prediction_test.T[i] - result_test[j])) / np.mean(result_test[j]) * 100, \"% \"\n",
    "            \"mean difference = \" ,np.mean(np.abs(prediction_test.T[i] - result_test[j])), \"=\" , np.mean(np.abs(prediction_test.T[i] - result_test[j])) / np.mean(result_test[j]) * 100, \"% \")"
   ]
  },
  {
   "cell_type": "code",
   "execution_count": 20,
   "metadata": {},
   "outputs": [
    {
     "name": "stdout",
     "output_type": "stream",
     "text": [
      "co_conc\n",
      "max difference =  0.6667367219924927 = 134.6849201524882 % mean difference =  0.18719749 = 37.815046310424805 % \n",
      "pm10_conc\n",
      "max difference =  0.7093958854675293 = 166.93856494153349 % mean difference =  0.16320014 = 38.40506672859192 % \n",
      "pm2p5_conc\n",
      "max difference =  0.5648395419120789 = 104.16985678621285 % mean difference =  0.1655819 = 30.53724467754364 % \n",
      "o3_conc\n",
      "max difference =  0.5541915893554688 = 99.0967794744641 % mean difference =  0.16095145 = 28.780245780944824 % \n"
     ]
    }
   ],
   "source": [
    "for i, j in enumerate([\"co_conc\", \"pm10_conc\", \"pm2p5_conc\", \"o3_conc\"]):\n",
    "    print(j)\n",
    "    print(\"max difference = \", np.max(np.abs(params_test[j] - result_test[j])), \"=\", np.max(np.abs(params_test[j] - result_test[j])) / np.mean(result_test[j]) * 100, \"% \"\n",
    "            \"mean difference = \" ,np.mean(np.abs(params_test[j] - result_test[j])), \"=\" , np.mean(np.abs(params_test[j] - result_test[j])) / np.mean(result_test[j]) * 100, \"% \")"
   ]
  },
  {
   "cell_type": "code",
   "execution_count": 49,
   "metadata": {},
   "outputs": [
    {
     "name": "stdout",
     "output_type": "stream",
     "text": [
      "CO2  &   5.13 \\% &   6.29 \\% \n",
      "pm10  &  10.70 \\% &  15.08 \\% \n",
      "pm2.5  &  12.12 \\% &  17.99 \\% \n",
      "озон  &   2.94 \\% &   3.72 \\% \n"
     ]
    }
   ],
   "source": [
    "mas = [\"CO2\", \"pm10\", \"pm2.5\", \"озон\"]\n",
    "for i, j in enumerate([\"co_conc\", \"pm10_conc\", \"pm2p5_conc\", \"o3_conc\"]):\n",
    "    print(mas[i], \" & {:6.2f} \\% & {:6.2f} \\% \".format(\n",
    "np.mean(np.abs(prediction.T[i] - result[j])**2) / np.mean(result[j])**2 * 100,\n",
    "np.mean(np.abs(params[j] - result[j])**2) / np.mean(result[j])**2 * 100,\n",
    "#np.max(np.abs(prediction.T[i] - result[j])**2) / np.mean(result[j])**2 * 100,\n",
    "#np.max(np.abs(params[j] - result[j])**2) / np.mean(result[j])**2 * 100\n",
    "        ))"
   ]
  },
  {
   "cell_type": "code",
   "execution_count": 48,
   "metadata": {},
   "outputs": [
    {
     "name": "stdout",
     "output_type": "stream",
     "text": [
      "CO2  &  16.52 \\% &  20.04 \\%\n",
      "pm10  &  18.78 \\% &  19.76 \\%\n",
      "pm2.5  &  12.50 \\% &  14.55 \\%\n",
      "озон  &   8.27 \\% &  12.04 \\%\n"
     ]
    }
   ],
   "source": [
    "mas = [\"CO2\", \"pm10\", \"pm2.5\", \"озон\"]\n",
    "for i, j in enumerate([\"co_conc\", \"pm10_conc\", \"pm2p5_conc\", \"o3_conc\"]):\n",
    "    print(mas[i], \" & {:6.2f} \\% & {:6.2f} \\%\".format(\n",
    "np.mean(np.abs(prediction_test.T[i] - result_test[j])**2) / np.mean(result_test[j]**2) * 100,\n",
    "np.mean(np.abs(params_test[j] - result_test[j])**2) / np.mean(result_test[j]**2) * 100\n",
    "#np.max(np.abs(prediction_test.T[i] - result_test[j])**2) / np.mean(result_test[j]**2) * 100,\n",
    "#np.max(np.abs(params_test[j] - result_test[j])**2) / np.mean(result_test[j]**2) * 100\n",
    "        ))"
   ]
  },
  {
   "cell_type": "code",
   "execution_count": 23,
   "metadata": {},
   "outputs": [],
   "source": [
    "#plt.plot(prediction_test)\n",
    "#plt.plot(result_test)"
   ]
  }
 ],
 "metadata": {
  "kernelspec": {
   "display_name": "base",
   "language": "python",
   "name": "python3"
  },
  "language_info": {
   "codemirror_mode": {
    "name": "ipython",
    "version": 3
   },
   "file_extension": ".py",
   "mimetype": "text/x-python",
   "name": "python",
   "nbconvert_exporter": "python",
   "pygments_lexer": "ipython3",
   "version": "3.11.5"
  }
 },
 "nbformat": 4,
 "nbformat_minor": 2
}
