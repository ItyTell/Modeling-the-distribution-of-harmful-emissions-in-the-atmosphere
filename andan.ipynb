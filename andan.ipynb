{
 "cells": [
  {
   "cell_type": "markdown",
   "metadata": {},
   "source": [
    "### Імпортування бібліотек"
   ]
  },
  {
   "cell_type": "code",
   "execution_count": 1,
   "metadata": {},
   "outputs": [],
   "source": [
    "import numpy as np\n",
    "import pandas as pd\n",
    "import matplotlib as mpl\n",
    "import matplotlib.pyplot as plt\n",
    "import netCDF4 as nc\n",
    "import datetime \n",
    "import seaborn"
   ]
  },
  {
   "cell_type": "markdown",
   "metadata": {},
   "source": [
    "### Завантажження данних у словник"
   ]
  },
  {
   "cell_type": "code",
   "execution_count": 2,
   "metadata": {},
   "outputs": [],
   "source": [
    "\n",
    "data = {\n",
    "    year: {\n",
    "            \"climate\": nc.Dataset(\"data/main/\" + year + \"/climate.nc\"),\n",
    "            \"polution\": nc.Dataset(\"data/main/\" + year + \"/polution.nc\"),\n",
    "        }\n",
    "    for year in [\"2021\", \"2022\", \"2023\"]\n",
    "}"
   ]
  },
  {
   "cell_type": "markdown",
   "metadata": {},
   "source": [
    "#### Кількість географічних точок на кліматичних данних і на данних про викидів різниться. \n",
    "#### Знаходжу спільні точки"
   ]
  },
  {
   "cell_type": "code",
   "execution_count": 3,
   "metadata": {},
   "outputs": [],
   "source": [
    "pol_lat_2021 = np.array(data[\"2021\"][\"polution\"].variables[\"latitude\"][: :-1])\n",
    "climate_lat_2021 = np.array(data[\"2021\"][\"climate\"].variables['lat'][:])\n",
    "sorter = np.argsort(pol_lat_2021)\n",
    "lats = -1 - np.searchsorted(pol_lat_2021, climate_lat_2021, sorter=sorter)\n",
    "\n",
    "\n",
    "pol_lon_2021 = np.array(data[\"2021\"][\"polution\"].variables[\"longitude\"][:])\n",
    "climate_lon_2021 = np.array(data[\"2021\"][\"climate\"].variables['lon'][:])\n",
    "sorter = np.argsort(pol_lon_2021)\n",
    "lons = np.searchsorted(pol_lon_2021, climate_lon_2021, sorter=sorter)"
   ]
  },
  {
   "cell_type": "markdown",
   "metadata": {},
   "source": [
    "### Завантаження данних у множину датафреймів"
   ]
  },
  {
   "cell_type": "markdown",
   "metadata": {},
   "source": [
    "Одразу позбуваємось даних про вітер на висоті 50 метрів"
   ]
  },
  {
   "cell_type": "code",
   "execution_count": 4,
   "metadata": {},
   "outputs": [],
   "source": [
    "start_date = datetime.date(2021, 1, 1); end_date = datetime.date(2023, 12, 31)\n",
    "time = [start_date + datetime.timedelta(days=i) for i in range((end_date - start_date).days + 1)]\n",
    "\n",
    "DATA = {}\n",
    "\n",
    "atributes_climate = list(data[\"2021\"][\"climate\"].variables.keys())[:-3]\n",
    "atributes_polution = list(data[\"2021\"][\"polution\"].variables.keys())[4:]\n",
    "\n",
    "for i in range(len(lats)):\n",
    "    for j in range(len(lons)):\n",
    "\n",
    "        i_p = lats[i]\n",
    "        j_p = lons[j]\n",
    "\n",
    "        _data = {\n",
    "            atribute: np.array(data[\"2021\"][\"climate\"].variables[atribute][:, i, j])\n",
    "            for atribute in atributes_climate\n",
    "        }\n",
    "\n",
    "        for atribute in atributes_polution:\n",
    "            _data[atribute] = np.array(data[\"2021\"][\"polution\"].variables[atribute][:, 0, i_p, j_p])\n",
    "\n",
    "\n",
    "        _data[\"time\"] = time\n",
    "\n",
    "        for year in [\"2022\", \"2023\"]:\n",
    "            for atribute in atributes_climate:\n",
    "                _data[atribute] = np.append(_data[atribute], np.array(data[year][\"climate\"].variables[atribute][:, 0, 0]))\n",
    "            for atribute in atributes_polution:\n",
    "                _data[atribute] = np.append(_data[atribute], np.array(data[year][\"polution\"].variables[atribute][:, 0, 0, -1]))\n",
    "        \n",
    "        DATA[str(float(data[\"2021\"][\"climate\"].variables[\"lat\"][i])) + \"x\" + str(float(data[\"2021\"][\"climate\"].variables[\"lon\"][j]))]= pd.DataFrame(_data).drop([\"WS50M\", \"WD50M\"], axis=1)\n"
   ]
  },
  {
   "cell_type": "code",
   "execution_count": 7,
   "metadata": {},
   "outputs": [
    {
     "data": {
      "text/html": [
       "<div>\n",
       "<style scoped>\n",
       "    .dataframe tbody tr th:only-of-type {\n",
       "        vertical-align: middle;\n",
       "    }\n",
       "\n",
       "    .dataframe tbody tr th {\n",
       "        vertical-align: top;\n",
       "    }\n",
       "\n",
       "    .dataframe thead th {\n",
       "        text-align: right;\n",
       "    }\n",
       "</style>\n",
       "<table border=\"1\" class=\"dataframe\">\n",
       "  <thead>\n",
       "    <tr style=\"text-align: right;\">\n",
       "      <th></th>\n",
       "      <th>ALLSKY_SFC_SW_DWN</th>\n",
       "      <th>WD10M</th>\n",
       "      <th>QV2M</th>\n",
       "      <th>PS</th>\n",
       "      <th>WS10M</th>\n",
       "      <th>T2M</th>\n",
       "      <th>co_conc</th>\n",
       "      <th>no2_conc</th>\n",
       "      <th>no_conc</th>\n",
       "      <th>o3_conc</th>\n",
       "      <th>pm10_conc</th>\n",
       "      <th>pm2p5_conc</th>\n",
       "      <th>so2_conc</th>\n",
       "      <th>time</th>\n",
       "    </tr>\n",
       "  </thead>\n",
       "  <tbody>\n",
       "    <tr>\n",
       "      <th>0</th>\n",
       "      <td>0.24</td>\n",
       "      <td>150.309998</td>\n",
       "      <td>3.00</td>\n",
       "      <td>99.019997</td>\n",
       "      <td>6.13</td>\n",
       "      <td>-2.67</td>\n",
       "      <td>165.812546</td>\n",
       "      <td>2.094728</td>\n",
       "      <td>0.114966</td>\n",
       "      <td>45.673897</td>\n",
       "      <td>15.915214</td>\n",
       "      <td>14.042672</td>\n",
       "      <td>2.042157</td>\n",
       "      <td>2021-01-01</td>\n",
       "    </tr>\n",
       "    <tr>\n",
       "      <th>1</th>\n",
       "      <td>0.28</td>\n",
       "      <td>233.199997</td>\n",
       "      <td>2.90</td>\n",
       "      <td>99.410004</td>\n",
       "      <td>4.68</td>\n",
       "      <td>-3.19</td>\n",
       "      <td>190.595673</td>\n",
       "      <td>4.180746</td>\n",
       "      <td>0.262915</td>\n",
       "      <td>26.774969</td>\n",
       "      <td>5.392114</td>\n",
       "      <td>4.794663</td>\n",
       "      <td>0.673026</td>\n",
       "      <td>2021-01-02</td>\n",
       "    </tr>\n",
       "    <tr>\n",
       "      <th>2</th>\n",
       "      <td>0.35</td>\n",
       "      <td>199.509995</td>\n",
       "      <td>2.22</td>\n",
       "      <td>100.440002</td>\n",
       "      <td>3.83</td>\n",
       "      <td>-6.33</td>\n",
       "      <td>196.013351</td>\n",
       "      <td>1.417576</td>\n",
       "      <td>0.094587</td>\n",
       "      <td>53.645283</td>\n",
       "      <td>11.483358</td>\n",
       "      <td>10.168221</td>\n",
       "      <td>0.763421</td>\n",
       "      <td>2021-01-03</td>\n",
       "    </tr>\n",
       "    <tr>\n",
       "      <th>3</th>\n",
       "      <td>0.33</td>\n",
       "      <td>159.449997</td>\n",
       "      <td>2.39</td>\n",
       "      <td>100.309998</td>\n",
       "      <td>4.63</td>\n",
       "      <td>-5.51</td>\n",
       "      <td>192.674072</td>\n",
       "      <td>2.827499</td>\n",
       "      <td>0.091319</td>\n",
       "      <td>54.002937</td>\n",
       "      <td>14.512181</td>\n",
       "      <td>12.881714</td>\n",
       "      <td>3.194430</td>\n",
       "      <td>2021-01-04</td>\n",
       "    </tr>\n",
       "    <tr>\n",
       "      <th>4</th>\n",
       "      <td>0.25</td>\n",
       "      <td>131.740005</td>\n",
       "      <td>2.33</td>\n",
       "      <td>99.980003</td>\n",
       "      <td>4.35</td>\n",
       "      <td>-5.62</td>\n",
       "      <td>144.451233</td>\n",
       "      <td>1.084685</td>\n",
       "      <td>0.033161</td>\n",
       "      <td>65.768387</td>\n",
       "      <td>8.892210</td>\n",
       "      <td>7.685567</td>\n",
       "      <td>0.367649</td>\n",
       "      <td>2021-01-05</td>\n",
       "    </tr>\n",
       "  </tbody>\n",
       "</table>\n",
       "</div>"
      ],
      "text/plain": [
       "   ALLSKY_SFC_SW_DWN       WD10M  QV2M          PS  WS10M   T2M     co_conc  \\\n",
       "0               0.24  150.309998  3.00   99.019997   6.13 -2.67  165.812546   \n",
       "1               0.28  233.199997  2.90   99.410004   4.68 -3.19  190.595673   \n",
       "2               0.35  199.509995  2.22  100.440002   3.83 -6.33  196.013351   \n",
       "3               0.33  159.449997  2.39  100.309998   4.63 -5.51  192.674072   \n",
       "4               0.25  131.740005  2.33   99.980003   4.35 -5.62  144.451233   \n",
       "\n",
       "   no2_conc   no_conc    o3_conc  pm10_conc  pm2p5_conc  so2_conc        time  \n",
       "0  2.094728  0.114966  45.673897  15.915214   14.042672  2.042157  2021-01-01  \n",
       "1  4.180746  0.262915  26.774969   5.392114    4.794663  0.673026  2021-01-02  \n",
       "2  1.417576  0.094587  53.645283  11.483358   10.168221  0.763421  2021-01-03  \n",
       "3  2.827499  0.091319  54.002937  14.512181   12.881714  3.194430  2021-01-04  \n",
       "4  1.084685  0.033161  65.768387   8.892210    7.685567  0.367649  2021-01-05  "
      ]
     },
     "execution_count": 7,
     "metadata": {},
     "output_type": "execute_result"
    }
   ],
   "source": [
    "DATA[\"52.25x36.75\"].head()"
   ]
  },
  {
   "cell_type": "markdown",
   "metadata": {},
   "source": [
    "### Статистичні данні стосовно всіх видів викидів"
   ]
  },
  {
   "cell_type": "code",
   "execution_count": 8,
   "metadata": {},
   "outputs": [],
   "source": [
    "stats = {\n",
    "    atribute: np.array([])\n",
    "    for atribute in atributes_polution\n",
    "}\n",
    "for val in DATA.values():\n",
    "    for atribute in atributes_polution:\n",
    "        stats[atribute] = np.append(stats[atribute], val[atribute])"
   ]
  },
  {
   "cell_type": "markdown",
   "metadata": {},
   "source": [
    "### Візуалізація \"сирих\" данних"
   ]
  },
  {
   "cell_type": "code",
   "execution_count": 10,
   "metadata": {},
   "outputs": [
    {
     "data": {
      "image/png": "[encoded data removed]",
      "text/plain": [
       "<Figure size 1000x500 with 8 Axes>"
      ]
     },
     "metadata": {},
     "output_type": "display_data"
    }
   ],
   "source": [
    "fig, axes = plt.subplots(2, 4, figsize=(2.5 * 4, 2.5 * 2))\n",
    "axes = np.array(axes).flatten()\n",
    "i = 0\n",
    "for label in stats.keys():\n",
    "    stat = stats[label]\n",
    "    ax = axes[i]\n",
    "    i+=1\n",
    "    ax.hist(np.array(stat), bins=100)\n",
    "    ax.set_yticklabels([])\n",
    "    ax.set_xticklabels([])\n",
    "    ax.set_title(label)\n",
    "axes[-1].set(visible=False)\n",
    "plt.show()"
   ]
  },
  {
   "cell_type": "markdown",
   "metadata": {},
   "source": [
    "Застосуємо інтервали"
   ]
  },
  {
   "cell_type": "code",
   "execution_count": 13,
   "metadata": {},
   "outputs": [
    {
     "data": {
      "image/png": "[encoded data removed]",
      "text/plain": [
       "<Figure size 2500x1000 with 1 Axes>"
      ]
     },
     "metadata": {},
     "output_type": "display_data"
    }
   ],
   "source": [
    "plt.figure(figsize=(25,10))\n",
    "seaborn.boxplot(data=pd.DataFrame(stats))\n",
    "plt.show()"
   ]
  },
  {
   "cell_type": "code",
   "execution_count": 9,
   "metadata": {},
   "outputs": [],
   "source": [
    "ranges = [[0, 450], [0, 12], [0, 8], [0, 130], [0, 50], [0, 25], [0, 7]]"
   ]
  },
  {
   "cell_type": "code",
   "execution_count": 11,
   "metadata": {},
   "outputs": [
    {
     "data": {
      "image/png": "[encoded data removed]",
      "text/plain": [
       "<Figure size 1000x500 with 8 Axes>"
      ]
     },
     "metadata": {},
     "output_type": "display_data"
    }
   ],
   "source": [
    "fig, axes = plt.subplots(2, 4, figsize=(2.5 * 4, 2.5 * 2))\n",
    "axes = np.array(axes).flatten()\n",
    "i = 0\n",
    "for label in stats.keys():\n",
    "    stat = stats[label]\n",
    "    ax = axes[i]\n",
    "    _range = ranges[i]\n",
    "    i+=1\n",
    "    ax.hist(np.array(stat), bins=100, range= _range)\n",
    "    ax.set_yticklabels([])\n",
    "    ax.set_xticklabels([])\n",
    "    ax.set_title(label)\n",
    "axes[-1].set(visible=False)\n",
    "plt.show()"
   ]
  },
  {
   "cell_type": "code",
   "execution_count": 17,
   "metadata": {},
   "outputs": [
    {
     "data": {
      "text/plain": [
       "1.5135643298415258"
      ]
     },
     "execution_count": 17,
     "metadata": {},
     "output_type": "execute_result"
    }
   ],
   "source": [
    "np.sum(stats[\"no_conc\"] > 1) / np.sum(stats[\"no_conc\"] > 0) * 100"
   ]
  },
  {
   "cell_type": "code",
   "execution_count": 16,
   "metadata": {},
   "outputs": [
    {
     "data": {
      "text/plain": [
       "1.2291163040558688"
      ]
     },
     "execution_count": 16,
     "metadata": {},
     "output_type": "execute_result"
    }
   ],
   "source": [
    "np.sum(stats[\"so2_conc\"] > 10) / np.sum(stats[\"so2_conc\"] > 0) * 100"
   ]
  },
  {
   "cell_type": "code",
   "execution_count": 18,
   "metadata": {},
   "outputs": [
    {
     "data": {
      "text/plain": [
       "['ALLSKY_SFC_SW_DWN', 'WD10M', 'QV2M', 'PS', 'WS10M', 'T2M']"
      ]
     },
     "execution_count": 18,
     "metadata": {},
     "output_type": "execute_result"
    }
   ],
   "source": [
    "a = [i for i in DATA[\"52.25x36.75\"].columns]\n",
    "for i in [\"time\", 'co_conc','no2_conc','no_conc','o3_conc','pm10_conc','pm2p5_conc','so2_conc']:\n",
    "    a.remove(i)\n",
    "a"
   ]
  },
  {
   "cell_type": "code",
   "execution_count": 19,
   "metadata": {},
   "outputs": [
    {
     "data": {
      "text/html": [
       "<div>\n",
       "<style scoped>\n",
       "    .dataframe tbody tr th:only-of-type {\n",
       "        vertical-align: middle;\n",
       "    }\n",
       "\n",
       "    .dataframe tbody tr th {\n",
       "        vertical-align: top;\n",
       "    }\n",
       "\n",
       "    .dataframe thead th {\n",
       "        text-align: right;\n",
       "    }\n",
       "</style>\n",
       "<table border=\"1\" class=\"dataframe\">\n",
       "  <thead>\n",
       "    <tr style=\"text-align: right;\">\n",
       "      <th></th>\n",
       "      <th>ALLSKY_SFC_SW_DWN</th>\n",
       "      <th>WD10M</th>\n",
       "      <th>QV2M</th>\n",
       "      <th>PS</th>\n",
       "      <th>WS10M</th>\n",
       "      <th>T2M</th>\n",
       "    </tr>\n",
       "  </thead>\n",
       "  <tbody>\n",
       "    <tr>\n",
       "      <th>ALLSKY_SFC_SW_DWN</th>\n",
       "      <td>1.000000</td>\n",
       "      <td>-0.185005</td>\n",
       "      <td>0.648201</td>\n",
       "      <td>0.120202</td>\n",
       "      <td>-0.338364</td>\n",
       "      <td>0.641930</td>\n",
       "    </tr>\n",
       "    <tr>\n",
       "      <th>WD10M</th>\n",
       "      <td>-0.185005</td>\n",
       "      <td>1.000000</td>\n",
       "      <td>-0.205908</td>\n",
       "      <td>-0.179114</td>\n",
       "      <td>0.033519</td>\n",
       "      <td>-0.196132</td>\n",
       "    </tr>\n",
       "    <tr>\n",
       "      <th>QV2M</th>\n",
       "      <td>0.648201</td>\n",
       "      <td>-0.205908</td>\n",
       "      <td>1.000000</td>\n",
       "      <td>0.166831</td>\n",
       "      <td>-0.130927</td>\n",
       "      <td>0.922823</td>\n",
       "    </tr>\n",
       "    <tr>\n",
       "      <th>PS</th>\n",
       "      <td>0.120202</td>\n",
       "      <td>-0.179114</td>\n",
       "      <td>0.166831</td>\n",
       "      <td>1.000000</td>\n",
       "      <td>0.217696</td>\n",
       "      <td>0.280368</td>\n",
       "    </tr>\n",
       "    <tr>\n",
       "      <th>WS10M</th>\n",
       "      <td>-0.338364</td>\n",
       "      <td>0.033519</td>\n",
       "      <td>-0.130927</td>\n",
       "      <td>0.217696</td>\n",
       "      <td>1.000000</td>\n",
       "      <td>-0.106707</td>\n",
       "    </tr>\n",
       "    <tr>\n",
       "      <th>T2M</th>\n",
       "      <td>0.641930</td>\n",
       "      <td>-0.196132</td>\n",
       "      <td>0.922823</td>\n",
       "      <td>0.280368</td>\n",
       "      <td>-0.106707</td>\n",
       "      <td>1.000000</td>\n",
       "    </tr>\n",
       "  </tbody>\n",
       "</table>\n",
       "</div>"
      ],
      "text/plain": [
       "                   ALLSKY_SFC_SW_DWN     WD10M      QV2M        PS     WS10M  \\\n",
       "ALLSKY_SFC_SW_DWN           1.000000 -0.185005  0.648201  0.120202 -0.338364   \n",
       "WD10M                      -0.185005  1.000000 -0.205908 -0.179114  0.033519   \n",
       "QV2M                        0.648201 -0.205908  1.000000  0.166831 -0.130927   \n",
       "PS                          0.120202 -0.179114  0.166831  1.000000  0.217696   \n",
       "WS10M                      -0.338364  0.033519 -0.130927  0.217696  1.000000   \n",
       "T2M                         0.641930 -0.196132  0.922823  0.280368 -0.106707   \n",
       "\n",
       "                        T2M  \n",
       "ALLSKY_SFC_SW_DWN  0.641930  \n",
       "WD10M             -0.196132  \n",
       "QV2M               0.922823  \n",
       "PS                 0.280368  \n",
       "WS10M             -0.106707  \n",
       "T2M                1.000000  "
      ]
     },
     "execution_count": 19,
     "metadata": {},
     "output_type": "execute_result"
    }
   ],
   "source": [
    "DATA[\"52.25x36.75\"].get(a).corr()"
   ]
  }
 ],
 "metadata": {
  "kernelspec": {
   "display_name": "base",
   "language": "python",
   "name": "python3"
  },
  "language_info": {
   "codemirror_mode": {
    "name": "ipython",
    "version": 3
   },
   "file_extension": ".py",
   "mimetype": "text/x-python",
   "name": "python",
   "nbconvert_exporter": "python",
   "pygments_lexer": "ipython3",
   "version": "3.11.5"
  }
 },
 "nbformat": 4,
 "nbformat_minor": 2
}
