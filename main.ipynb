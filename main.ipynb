{
 "cells": [
  {
   "cell_type": "markdown",
   "metadata": {},
   "source": [
    "### Імпортування бібліотек"
   ]
  },
  {
   "cell_type": "code",
   "execution_count": 1,
   "metadata": {},
   "outputs": [],
   "source": [
    "import numpy as np\n",
    "import pandas as pd\n",
    "import matplotlib as mpl\n",
    "import matplotlib.pyplot as plt\n",
    "#import tensorflow as tf\n",
    "import netCDF4 as nc\n",
    "from sklearn.linear_model import LinearRegression\n",
    "import datetime "
   ]
  },
  {
   "cell_type": "markdown",
   "metadata": {},
   "source": [
    "### Перевірка застосування графічного процесора"
   ]
  },
  {
   "cell_type": "code",
   "execution_count": 2,
   "metadata": {},
   "outputs": [],
   "source": [
    "#check if GPU is available\n",
    "#print(tf.config.list_physical_devices('GPU'))"
   ]
  },
  {
   "cell_type": "markdown",
   "metadata": {},
   "source": [
    "### Завантажження данних у словник"
   ]
  },
  {
   "cell_type": "code",
   "execution_count": 3,
   "metadata": {},
   "outputs": [],
   "source": [
    "\n",
    "data = {\n",
    "    year: {\n",
    "            \"climate\": nc.Dataset(\"data/main/\" + year + \"/climate.nc\"),\n",
    "            \"polution\": nc.Dataset(\"data/main/\" + year + \"/polution.nc\"),\n",
    "        }\n",
    "    for year in [\"2021\", \"2022\", \"2023\"]\n",
    "}"
   ]
  },
  {
   "cell_type": "markdown",
   "metadata": {},
   "source": [
    "#### Кількість географічних точок на кліматичних данних і на данних про викидів різниться. \n",
    "#### Знаходжу спільні точки"
   ]
  },
  {
   "cell_type": "code",
   "execution_count": 4,
   "metadata": {},
   "outputs": [],
   "source": [
    "pol_lat_2021 = np.array(data[\"2021\"][\"polution\"].variables[\"latitude\"][: :-1])\n",
    "climate_lat_2021 = np.array(data[\"2021\"][\"climate\"].variables['lat'][:])\n",
    "sorter = np.argsort(pol_lat_2021)\n",
    "lats = -1 - np.searchsorted(pol_lat_2021, climate_lat_2021, sorter=sorter)\n",
    "\n",
    "\n",
    "pol_lon_2021 = np.array(data[\"2021\"][\"polution\"].variables[\"longitude\"][:])\n",
    "climate_lon_2021 = np.array(data[\"2021\"][\"climate\"].variables['lon'][:])\n",
    "sorter = np.argsort(pol_lon_2021)\n",
    "lons = np.searchsorted(pol_lon_2021, climate_lon_2021, sorter=sorter)"
   ]
  },
  {
   "cell_type": "markdown",
   "metadata": {},
   "source": [
    "### Завантаження данних у множину датафреймів"
   ]
  },
  {
   "cell_type": "code",
   "execution_count": 5,
   "metadata": {},
   "outputs": [],
   "source": [
    "start_date = datetime.date(2021, 1, 1); end_date = datetime.date(2023, 12, 31)\n",
    "time = [start_date + datetime.timedelta(days=i) for i in range((end_date - start_date).days + 1)]\n",
    "\n",
    "DATA = {}\n",
    "\n",
    "atributes_climate = list(data[\"2021\"][\"climate\"].variables.keys())[:-3]\n",
    "atributes_polution = list(data[\"2021\"][\"polution\"].variables.keys())[4:]\n",
    "\n",
    "for i in range(len(lats)):\n",
    "    for j in range(len(lons)):\n",
    "\n",
    "        i_p = lats[i]\n",
    "        j_p = lons[j]\n",
    "\n",
    "        _data = {\n",
    "            atribute: np.array(data[\"2021\"][\"climate\"].variables[atribute][:, i, j])\n",
    "            for atribute in atributes_climate\n",
    "        }\n",
    "\n",
    "        for atribute in atributes_polution:\n",
    "            _data[atribute] = np.array(data[\"2021\"][\"polution\"].variables[atribute][:, 0, i_p, j_p])\n",
    "\n",
    "\n",
    "        _data[\"time\"] = time\n",
    "\n",
    "        for year in [\"2022\", \"2023\"]:\n",
    "            for atribute in atributes_climate:\n",
    "                _data[atribute] = np.append(_data[atribute], np.array(data[year][\"climate\"].variables[atribute][:, 0, 0]))\n",
    "            for atribute in atributes_polution:\n",
    "                _data[atribute] = np.append(_data[atribute], np.array(data[year][\"polution\"].variables[atribute][:, 0, 0, -1]))\n",
    "        \n",
    "        DATA[str(float(data[\"2021\"][\"climate\"].variables[\"lat\"][i])) + \"x\" + str(float(data[\"2021\"][\"climate\"].variables[\"lon\"][j]))]= pd.DataFrame(_data)\n"
   ]
  },
  {
   "cell_type": "code",
   "execution_count": 6,
   "metadata": {},
   "outputs": [
    {
     "data": {
      "text/html": [
       "<div>\n",
       "<style scoped>\n",
       "    .dataframe tbody tr th:only-of-type {\n",
       "        vertical-align: middle;\n",
       "    }\n",
       "\n",
       "    .dataframe tbody tr th {\n",
       "        vertical-align: top;\n",
       "    }\n",
       "\n",
       "    .dataframe thead th {\n",
       "        text-align: right;\n",
       "    }\n",
       "</style>\n",
       "<table border=\"1\" class=\"dataframe\">\n",
       "  <thead>\n",
       "    <tr style=\"text-align: right;\">\n",
       "      <th></th>\n",
       "      <th>ALLSKY_SFC_SW_DWN</th>\n",
       "      <th>WD10M</th>\n",
       "      <th>WS50M</th>\n",
       "      <th>QV2M</th>\n",
       "      <th>WD50M</th>\n",
       "      <th>PS</th>\n",
       "      <th>WS10M</th>\n",
       "      <th>T2M</th>\n",
       "      <th>co_conc</th>\n",
       "      <th>no2_conc</th>\n",
       "      <th>no_conc</th>\n",
       "      <th>o3_conc</th>\n",
       "      <th>pm10_conc</th>\n",
       "      <th>pm2p5_conc</th>\n",
       "      <th>so2_conc</th>\n",
       "      <th>time</th>\n",
       "    </tr>\n",
       "  </thead>\n",
       "  <tbody>\n",
       "    <tr>\n",
       "      <th>0</th>\n",
       "      <td>0.24</td>\n",
       "      <td>150.309998</td>\n",
       "      <td>8.16</td>\n",
       "      <td>3.00</td>\n",
       "      <td>151.339996</td>\n",
       "      <td>99.019997</td>\n",
       "      <td>6.13</td>\n",
       "      <td>-2.67</td>\n",
       "      <td>165.812546</td>\n",
       "      <td>2.094728</td>\n",
       "      <td>0.114966</td>\n",
       "      <td>45.673897</td>\n",
       "      <td>15.915214</td>\n",
       "      <td>14.042672</td>\n",
       "      <td>2.042157</td>\n",
       "      <td>2021-01-01</td>\n",
       "    </tr>\n",
       "    <tr>\n",
       "      <th>1</th>\n",
       "      <td>0.28</td>\n",
       "      <td>233.199997</td>\n",
       "      <td>7.21</td>\n",
       "      <td>2.90</td>\n",
       "      <td>233.759995</td>\n",
       "      <td>99.410004</td>\n",
       "      <td>4.68</td>\n",
       "      <td>-3.19</td>\n",
       "      <td>190.595673</td>\n",
       "      <td>4.180746</td>\n",
       "      <td>0.262915</td>\n",
       "      <td>26.774969</td>\n",
       "      <td>5.392114</td>\n",
       "      <td>4.794663</td>\n",
       "      <td>0.673026</td>\n",
       "      <td>2021-01-02</td>\n",
       "    </tr>\n",
       "    <tr>\n",
       "      <th>2</th>\n",
       "      <td>0.35</td>\n",
       "      <td>199.509995</td>\n",
       "      <td>6.09</td>\n",
       "      <td>2.22</td>\n",
       "      <td>199.919998</td>\n",
       "      <td>100.440002</td>\n",
       "      <td>3.83</td>\n",
       "      <td>-6.33</td>\n",
       "      <td>196.013351</td>\n",
       "      <td>1.417576</td>\n",
       "      <td>0.094587</td>\n",
       "      <td>53.645283</td>\n",
       "      <td>11.483358</td>\n",
       "      <td>10.168221</td>\n",
       "      <td>0.763421</td>\n",
       "      <td>2021-01-03</td>\n",
       "    </tr>\n",
       "    <tr>\n",
       "      <th>3</th>\n",
       "      <td>0.33</td>\n",
       "      <td>159.449997</td>\n",
       "      <td>6.69</td>\n",
       "      <td>2.39</td>\n",
       "      <td>160.139999</td>\n",
       "      <td>100.309998</td>\n",
       "      <td>4.63</td>\n",
       "      <td>-5.51</td>\n",
       "      <td>192.674072</td>\n",
       "      <td>2.827499</td>\n",
       "      <td>0.091319</td>\n",
       "      <td>54.002937</td>\n",
       "      <td>14.512181</td>\n",
       "      <td>12.881714</td>\n",
       "      <td>3.194430</td>\n",
       "      <td>2021-01-04</td>\n",
       "    </tr>\n",
       "    <tr>\n",
       "      <th>4</th>\n",
       "      <td>0.25</td>\n",
       "      <td>131.740005</td>\n",
       "      <td>6.58</td>\n",
       "      <td>2.33</td>\n",
       "      <td>132.389999</td>\n",
       "      <td>99.980003</td>\n",
       "      <td>4.35</td>\n",
       "      <td>-5.62</td>\n",
       "      <td>144.451233</td>\n",
       "      <td>1.084685</td>\n",
       "      <td>0.033161</td>\n",
       "      <td>65.768387</td>\n",
       "      <td>8.892210</td>\n",
       "      <td>7.685567</td>\n",
       "      <td>0.367649</td>\n",
       "      <td>2021-01-05</td>\n",
       "    </tr>\n",
       "    <tr>\n",
       "      <th>...</th>\n",
       "      <td>...</td>\n",
       "      <td>...</td>\n",
       "      <td>...</td>\n",
       "      <td>...</td>\n",
       "      <td>...</td>\n",
       "      <td>...</td>\n",
       "      <td>...</td>\n",
       "      <td>...</td>\n",
       "      <td>...</td>\n",
       "      <td>...</td>\n",
       "      <td>...</td>\n",
       "      <td>...</td>\n",
       "      <td>...</td>\n",
       "      <td>...</td>\n",
       "      <td>...</td>\n",
       "      <td>...</td>\n",
       "    </tr>\n",
       "    <tr>\n",
       "      <th>1090</th>\n",
       "      <td>1.92</td>\n",
       "      <td>249.639999</td>\n",
       "      <td>8.01</td>\n",
       "      <td>6.88</td>\n",
       "      <td>250.039993</td>\n",
       "      <td>101.879997</td>\n",
       "      <td>6.71</td>\n",
       "      <td>10.52</td>\n",
       "      <td>169.066650</td>\n",
       "      <td>1.973635</td>\n",
       "      <td>0.089216</td>\n",
       "      <td>56.505196</td>\n",
       "      <td>2.719846</td>\n",
       "      <td>2.470642</td>\n",
       "      <td>0.598573</td>\n",
       "      <td>2023-12-27</td>\n",
       "    </tr>\n",
       "    <tr>\n",
       "      <th>1091</th>\n",
       "      <td>1.71</td>\n",
       "      <td>133.110001</td>\n",
       "      <td>5.72</td>\n",
       "      <td>5.39</td>\n",
       "      <td>133.350006</td>\n",
       "      <td>102.760002</td>\n",
       "      <td>5.15</td>\n",
       "      <td>9.40</td>\n",
       "      <td>193.595978</td>\n",
       "      <td>2.935729</td>\n",
       "      <td>0.263832</td>\n",
       "      <td>55.377506</td>\n",
       "      <td>6.573823</td>\n",
       "      <td>5.748918</td>\n",
       "      <td>1.993840</td>\n",
       "      <td>2023-12-28</td>\n",
       "    </tr>\n",
       "    <tr>\n",
       "      <th>1092</th>\n",
       "      <td>1.97</td>\n",
       "      <td>241.759995</td>\n",
       "      <td>7.07</td>\n",
       "      <td>6.66</td>\n",
       "      <td>242.059998</td>\n",
       "      <td>102.000000</td>\n",
       "      <td>6.30</td>\n",
       "      <td>9.86</td>\n",
       "      <td>201.386597</td>\n",
       "      <td>2.816414</td>\n",
       "      <td>0.199975</td>\n",
       "      <td>43.828003</td>\n",
       "      <td>13.946591</td>\n",
       "      <td>11.377452</td>\n",
       "      <td>1.526470</td>\n",
       "      <td>2023-12-29</td>\n",
       "    </tr>\n",
       "    <tr>\n",
       "      <th>1093</th>\n",
       "      <td>1.38</td>\n",
       "      <td>246.309998</td>\n",
       "      <td>4.47</td>\n",
       "      <td>6.37</td>\n",
       "      <td>246.259995</td>\n",
       "      <td>101.849998</td>\n",
       "      <td>4.12</td>\n",
       "      <td>9.02</td>\n",
       "      <td>202.640991</td>\n",
       "      <td>2.945606</td>\n",
       "      <td>0.128082</td>\n",
       "      <td>47.272038</td>\n",
       "      <td>13.147657</td>\n",
       "      <td>11.454666</td>\n",
       "      <td>1.440309</td>\n",
       "      <td>2023-12-30</td>\n",
       "    </tr>\n",
       "    <tr>\n",
       "      <th>1094</th>\n",
       "      <td>1.97</td>\n",
       "      <td>223.190002</td>\n",
       "      <td>3.99</td>\n",
       "      <td>6.20</td>\n",
       "      <td>223.610001</td>\n",
       "      <td>101.980003</td>\n",
       "      <td>3.74</td>\n",
       "      <td>8.97</td>\n",
       "      <td>171.121704</td>\n",
       "      <td>1.392331</td>\n",
       "      <td>0.087532</td>\n",
       "      <td>56.457794</td>\n",
       "      <td>2.631964</td>\n",
       "      <td>1.989417</td>\n",
       "      <td>0.291607</td>\n",
       "      <td>2023-12-31</td>\n",
       "    </tr>\n",
       "  </tbody>\n",
       "</table>\n",
       "<p>1095 rows × 16 columns</p>\n",
       "</div>"
      ],
      "text/plain": [
       "      ALLSKY_SFC_SW_DWN       WD10M  WS50M  QV2M       WD50M          PS  \\\n",
       "0                  0.24  150.309998   8.16  3.00  151.339996   99.019997   \n",
       "1                  0.28  233.199997   7.21  2.90  233.759995   99.410004   \n",
       "2                  0.35  199.509995   6.09  2.22  199.919998  100.440002   \n",
       "3                  0.33  159.449997   6.69  2.39  160.139999  100.309998   \n",
       "4                  0.25  131.740005   6.58  2.33  132.389999   99.980003   \n",
       "...                 ...         ...    ...   ...         ...         ...   \n",
       "1090               1.92  249.639999   8.01  6.88  250.039993  101.879997   \n",
       "1091               1.71  133.110001   5.72  5.39  133.350006  102.760002   \n",
       "1092               1.97  241.759995   7.07  6.66  242.059998  102.000000   \n",
       "1093               1.38  246.309998   4.47  6.37  246.259995  101.849998   \n",
       "1094               1.97  223.190002   3.99  6.20  223.610001  101.980003   \n",
       "\n",
       "      WS10M    T2M     co_conc  no2_conc   no_conc    o3_conc  pm10_conc  \\\n",
       "0      6.13  -2.67  165.812546  2.094728  0.114966  45.673897  15.915214   \n",
       "1      4.68  -3.19  190.595673  4.180746  0.262915  26.774969   5.392114   \n",
       "2      3.83  -6.33  196.013351  1.417576  0.094587  53.645283  11.483358   \n",
       "3      4.63  -5.51  192.674072  2.827499  0.091319  54.002937  14.512181   \n",
       "4      4.35  -5.62  144.451233  1.084685  0.033161  65.768387   8.892210   \n",
       "...     ...    ...         ...       ...       ...        ...        ...   \n",
       "1090   6.71  10.52  169.066650  1.973635  0.089216  56.505196   2.719846   \n",
       "1091   5.15   9.40  193.595978  2.935729  0.263832  55.377506   6.573823   \n",
       "1092   6.30   9.86  201.386597  2.816414  0.199975  43.828003  13.946591   \n",
       "1093   4.12   9.02  202.640991  2.945606  0.128082  47.272038  13.147657   \n",
       "1094   3.74   8.97  171.121704  1.392331  0.087532  56.457794   2.631964   \n",
       "\n",
       "      pm2p5_conc  so2_conc        time  \n",
       "0      14.042672  2.042157  2021-01-01  \n",
       "1       4.794663  0.673026  2021-01-02  \n",
       "2      10.168221  0.763421  2021-01-03  \n",
       "3      12.881714  3.194430  2021-01-04  \n",
       "4       7.685567  0.367649  2021-01-05  \n",
       "...          ...       ...         ...  \n",
       "1090    2.470642  0.598573  2023-12-27  \n",
       "1091    5.748918  1.993840  2023-12-28  \n",
       "1092   11.377452  1.526470  2023-12-29  \n",
       "1093   11.454666  1.440309  2023-12-30  \n",
       "1094    1.989417  0.291607  2023-12-31  \n",
       "\n",
       "[1095 rows x 16 columns]"
      ]
     },
     "execution_count": 6,
     "metadata": {},
     "output_type": "execute_result"
    }
   ],
   "source": [
    "DATA[\"52.25x36.75\"]"
   ]
  },
  {
   "cell_type": "markdown",
   "metadata": {},
   "source": [
    "### Статистичні данні стосовно всіх видів викидів"
   ]
  },
  {
   "cell_type": "code",
   "execution_count": 90,
   "metadata": {},
   "outputs": [],
   "source": [
    "stats = {\n",
    "    atribute: np.array([])\n",
    "    for atribute in atributes_polution\n",
    "}\n",
    "for val in DATA.values():\n",
    "    for atribute in atributes_polution:\n",
    "        stats[atribute] = np.append(stats[atribute], val[atribute])"
   ]
  },
  {
   "cell_type": "markdown",
   "metadata": {},
   "source": [
    "### Візуалізація \"сирих\" данних"
   ]
  },
  {
   "cell_type": "code",
   "execution_count": 92,
   "metadata": {},
   "outputs": [],
   "source": [
    "ranges = [[100, 450], [0, 8], [0, 1], [0, 130], [0, 50], [0, 25], [0, 7]]"
   ]
  },
  {
   "cell_type": "code",
   "execution_count": 122,
   "metadata": {},
   "outputs": [
    {
     "data": {
      "image/png": "[encoded data removed]",
      "text/plain": [
       "<Figure size 1000x500 with 8 Axes>"
      ]
     },
     "metadata": {},
     "output_type": "display_data"
    }
   ],
   "source": [
    "fig, axes = plt.subplots(2, 4, figsize=(2.5 * 4, 2.5 * 2))\n",
    "axes = np.array(axes).flatten()\n",
    "i = 0\n",
    "for label in stats.keys():\n",
    "    stat = stats[label]\n",
    "    ax = axes[i]\n",
    "    _range = ranges[i]\n",
    "    i+=1\n",
    "    ax.hist(np.array(stat), bins=100, range= _range)\n",
    "    ax.set_yticklabels([])\n",
    "    ax.set_xticklabels([])\n",
    "    ax.set_title(label)\n",
    "axes[-1].set(visible=False)\n",
    "plt.show()"
   ]
  },
  {
   "cell_type": "code",
   "execution_count": 128,
   "metadata": {},
   "outputs": [
    {
     "data": {
      "text/plain": [
       "31.482698440551758"
      ]
     },
     "execution_count": 128,
     "metadata": {},
     "output_type": "execute_result"
    }
   ],
   "source": [
    "np.max(stats[\"no_conc\"])"
   ]
  },
  {
   "cell_type": "code",
   "execution_count": 107,
   "metadata": {},
   "outputs": [],
   "source": [
    "import seaborn"
   ]
  },
  {
   "cell_type": "code",
   "execution_count": 120,
   "metadata": {},
   "outputs": [
    {
     "data": {
      "text/plain": [
       "<Axes: >"
      ]
     },
     "execution_count": 120,
     "metadata": {},
     "output_type": "execute_result"
    },
    {
     "data": {
      "image/png": "[encoded data removed]",
      "text/plain": [
       "<Figure size 2500x1000 with 1 Axes>"
      ]
     },
     "metadata": {},
     "output_type": "display_data"
    }
   ],
   "source": [
    "plt.figure(figsize=(25,10))\n",
    "seaborn.boxplot(data=pd.DataFrame(stats))"
   ]
  },
  {
   "cell_type": "code",
   "execution_count": 145,
   "metadata": {},
   "outputs": [
    {
     "data": {
      "text/plain": [
       "6"
      ]
     },
     "execution_count": 145,
     "metadata": {},
     "output_type": "execute_result"
    }
   ],
   "source": [
    "np.sum(stats[\"no_conc\"] > 12)"
   ]
  },
  {
   "cell_type": "markdown",
   "metadata": {},
   "source": [
    "### Нормалізація данних"
   ]
  },
  {
   "cell_type": "code",
   "execution_count": 43,
   "metadata": {},
   "outputs": [],
   "source": [
    "normal_stats = {}\n",
    "for atribute in stats.keys():\n",
    "    temp = stats[atribute]\n",
    "    temp = temp - np.min(temp)\n",
    "    normal_stats[atribute] = temp / np.max(temp)"
   ]
  },
  {
   "cell_type": "code",
   "execution_count": 52,
   "metadata": {},
   "outputs": [],
   "source": [
    "ranges = [[0, 0.2], [0, 0.15], [0, 0.02], [0, 0.65], [0, 0.18], [0, 0.2], [0, 0.06]]"
   ]
  },
  {
   "cell_type": "code",
   "execution_count": null,
   "metadata": {},
   "outputs": [
    {
     "data": {
      "image/png": "[encoded data removed]",
      "text/plain": [
       "<Figure size 1000x500 with 8 Axes>"
      ]
     },
     "metadata": {},
     "output_type": "display_data"
    }
   ],
   "source": [
    "fig, axes = plt.subplots(2, 4, figsize=(2.5 * 4, 2.5 * 2))\n",
    "axes = np.array(axes).flatten()\n",
    "i = 0\n",
    "for label in normal_stats.keys():\n",
    "    stat = normal_stats[label]\n",
    "    ax = axes[i]\n",
    "    _range = ranges[i]\n",
    "    i+=1\n",
    "    ax.hist(np.array(stat), bins=100, range=_range)\n",
    "    ax.set_yticklabels([])\n",
    "    ax.set_xticklabels([])\n",
    "    ax.set_title(label)\n",
    "axes[-1].set(visible=False)\n",
    "plt.show()"
   ]
  },
  {
   "cell_type": "code",
   "execution_count": 66,
   "metadata": {},
   "outputs": [
    {
     "data": {
      "image/png": "[encoded data removed]",
      "text/plain": [
       "<Figure size 1000x500 with 8 Axes>"
      ]
     },
     "metadata": {},
     "output_type": "display_data"
    }
   ],
   "source": [
    "fig, axes = plt.subplots(2, 4, figsize=(2.5 * 4, 2.5 * 2))\n",
    "axes = np.array(axes).flatten()\n",
    "i = 0\n",
    "for label in normal_stats.keys():\n",
    "    stat = normal_stats[label]\n",
    "    ax = axes[i]\n",
    "    _range = [0, 1]\n",
    "    i+=1\n",
    "    ax.hist(np.array(stat), bins=100, range=_range)\n",
    "    ax.set_yticklabels([])\n",
    "    ax.set_xticklabels([])\n",
    "    ax.set_title(label)\n",
    "axes[-1].set(visible=False)\n",
    "plt.show()"
   ]
  },
  {
   "cell_type": "markdown",
   "metadata": {},
   "source": [
    "### Застосування логарифмічної функції: $\\log(1 + x)$"
   ]
  },
  {
   "cell_type": "code",
   "execution_count": 54,
   "metadata": {},
   "outputs": [],
   "source": [
    "log_stats = {}\n",
    "for atribute in normal_stats.keys():\n",
    "    temp = np.log(1 + stats[atribute])\n",
    "    temp = temp - np.min(temp)\n",
    "    log_stats[atribute] = temp / np.max(temp)"
   ]
  },
  {
   "cell_type": "code",
   "execution_count": 67,
   "metadata": {},
   "outputs": [
    {
     "data": {
      "image/png": "[encoded data removed]",
      "text/plain": [
       "<Figure size 1000x500 with 8 Axes>"
      ]
     },
     "metadata": {},
     "output_type": "display_data"
    }
   ],
   "source": [
    "fig, axes = plt.subplots(2, 4, figsize=(2.5 * 4, 2.5 * 2))\n",
    "axes = np.array(axes).flatten()\n",
    "i = 0\n",
    "for label in log_stats.keys():\n",
    "    stat = log_stats[label]\n",
    "    ax = axes[i]\n",
    "    _range = [0, 1]\n",
    "    i+=1\n",
    "    ax.hist(np.array(stat), bins=100, range=_range)\n",
    "    ax.set_yticklabels([])\n",
    "    ax.set_xticklabels([])\n",
    "    ax.set_title(label)\n",
    "axes[-1].set(visible=False)\n",
    "plt.show()"
   ]
  },
  {
   "cell_type": "code",
   "execution_count": 64,
   "metadata": {},
   "outputs": [],
   "source": [
    "ranges = [[0, 0.5], [0, 0.7], [0, 0.18], [0.4, 0.9], [0, 0.8], [0, 0.72], [0, 0.6]]"
   ]
  },
  {
   "cell_type": "code",
   "execution_count": 76,
   "metadata": {},
   "outputs": [
    {
     "data": {
      "image/png": "[encoded data removed]",
      "text/plain": [
       "<Figure size 1000x500 with 8 Axes>"
      ]
     },
     "metadata": {},
     "output_type": "display_data"
    }
   ],
   "source": [
    "fig, axes = plt.subplots(2, 4, figsize=(2.5 * 4, 2.5 * 2))\n",
    "axes = np.array(axes).flatten()\n",
    "i = 0\n",
    "for label in log_stats.keys():\n",
    "    stat = log_stats[label]\n",
    "    ax = axes[i]\n",
    "    _range = ranges[i]\n",
    "    i+=1\n",
    "    ax.hist(np.array(stat), bins=10, range=_range)\n",
    "    ax.set_yticklabels([])\n",
    "    ax.set_xticklabels([])\n",
    "    ax.set_title(label)\n",
    "axes[-1].set(visible=False)\n",
    "plt.show()"
   ]
  },
  {
   "cell_type": "code",
   "execution_count": 87,
   "metadata": {},
   "outputs": [
    {
     "data": {
      "image/png": "[encoded data removed]",
      "text/plain": [
       "<Figure size 640x480 with 1 Axes>"
      ]
     },
     "metadata": {},
     "output_type": "display_data"
    }
   ],
   "source": [
    "plt.hist(np.log(1 +np.log(1 +np.log(1 +np.log(1 +np.log(1 + np.log(1 +     np.log(1 + np.log(1 + np.log(1 + log_stats[\"so2_conc\"]))))))))), bins = 15)\n",
    "plt.show()"
   ]
  },
  {
   "cell_type": "code",
   "execution_count": 64,
   "metadata": {},
   "outputs": [
    {
     "data": {
      "image/png": "[encoded data removed]",
      "text/plain": [
       "<Figure size 500x1750 with 14 Axes>"
      ]
     },
     "metadata": {},
     "output_type": "display_data"
    }
   ],
   "source": [
    "\n",
    "fig, axes = plt.subplots(len(stats), 2, figsize=(5, 2.5 * len(stats)))\n",
    "\n",
    "i = 0\n",
    "for stat in stats.values():\n",
    "    ax1, ax2 = axes[i]\n",
    "    range1, range2 = ranges[i]\n",
    "    i+=1\n",
    "    ax1.hist(np.array(stat), bins=100, range = range1)\n",
    "    ax2.hist(np.log(1 + stat), bins=100, range = range2)\n",
    "plt.show()"
   ]
  },
  {
   "cell_type": "code",
   "execution_count": 19,
   "metadata": {},
   "outputs": [],
   "source": [
    "ds = nc.Dataset('data/4/adaptor.cams_regional_fc.retrieve-1716019478.8230424-19030-9-641f1c8d-5acb-4368-ba1f-f0fb747895f2.nc')"
   ]
  },
  {
   "cell_type": "code",
   "execution_count": 33,
   "metadata": {},
   "outputs": [
    {
     "data": {
      "text/plain": [
       "<class 'netCDF4._netCDF4.Dataset'>\n",
       "root group (NETCDF3_CLASSIC data model, file format NETCDF3):\n",
       "    title: CO/NO2/O3/PM10/PM25/SO2 Air Pollutant ANALYSIS at the Surface\n",
       "    institution: Data produced by Meteo France\n",
       "    source: Data from ENSEMBLE model\n",
       "    history: Model ENSEMBLE ANALYSIS\n",
       "    ANALYSIS: Europe, 20230416-20240416+[12H_12H]\n",
       "    summary: ENSEMBLE model hourly ANALYSIS of CO/NO2/O3/PM10/PM25/SO2 concentration at the Surface from 20230416-20240416+[12H_12H] on Europe\n",
       "    project: MACC-RAQ (http://macc-raq.gmes-atmosphere.eu)\n",
       "    dimensions(sizes): longitude(5), latitude(2), level(1), time(367)\n",
       "    variables(dimensions): float32 longitude(longitude), float32 latitude(latitude), float32 level(level), float32 time(time), float32 co_conc(time, level, latitude, longitude), float32 no2_conc(time, level, latitude, longitude), float32 o3_conc(time, level, latitude, longitude), float32 pm10_conc(time, level, latitude, longitude), float32 pm2p5_conc(time, level, latitude, longitude), float32 so2_conc(time, level, latitude, longitude)\n",
       "    groups: "
      ]
     },
     "execution_count": 33,
     "metadata": {},
     "output_type": "execute_result"
    }
   ],
   "source": [
    "ds"
   ]
  },
  {
   "cell_type": "code",
   "execution_count": 99,
   "metadata": {},
   "outputs": [
    {
     "data": {
      "text/plain": [
       "<class 'netCDF4._netCDF4.Variable'>\n",
       "float32 co_conc(time, level, latitude, longitude)\n",
       "    _FillValue: -999.0\n",
       "    species: Carbon Monoxide\n",
       "    units: µg/m3\n",
       "    value: hourly values\n",
       "    standard_name: mass_concentration_of_carbon_monoxide_in_air\n",
       "unlimited dimensions: time\n",
       "current shape = (367, 1, 2, 5)\n",
       "filling on"
      ]
     },
     "execution_count": 99,
     "metadata": {},
     "output_type": "execute_result"
    }
   ],
   "source": [
    "ds.variables[\"co_conc\"]"
   ]
  },
  {
   "cell_type": "code",
   "execution_count": 34,
   "metadata": {},
   "outputs": [
    {
     "data": {
      "text/plain": [
       "dict_keys(['longitude', 'latitude', 'level', 'time', 'co_conc', 'no2_conc', 'o3_conc', 'pm10_conc', 'pm2p5_conc', 'so2_conc'])"
      ]
     },
     "execution_count": 34,
     "metadata": {},
     "output_type": "execute_result"
    }
   ],
   "source": [
    "ds.variables.keys()"
   ]
  },
  {
   "cell_type": "code",
   "execution_count": 72,
   "metadata": {},
   "outputs": [],
   "source": [
    "start_date = datetime.date(2023, 4, 16)\n",
    "end_date = datetime.date(2024, 4, 16)\n",
    "time = [start_date + datetime.timedelta(days=i) for i in range((end_date - start_date).days + 1)]"
   ]
  },
  {
   "cell_type": "code",
   "execution_count": 98,
   "metadata": {},
   "outputs": [
    {
     "data": {
      "image/png": "[encoded data removed]",
      "text/plain": [
       "<Figure size 600x750 with 6 Axes>"
      ]
     },
     "metadata": {},
     "output_type": "display_data"
    }
   ],
   "source": [
    "fig, axes = plt.subplots(3, 2, figsize=(6, 7.5)) \n",
    "polut = ['co_conc', 'no2_conc', 'o3_conc', 'pm10_conc', 'pm2p5_conc', 'so2_conc']\n",
    "\n",
    "for i, ax in enumerate(axes.flat):\n",
    "    ax.hist(np.log(ds.variables[polut[i]][:, 0, 0, 0 ]), bins=50)\n",
    "plt.show()"
   ]
  },
  {
   "cell_type": "code",
   "execution_count": null,
   "metadata": {},
   "outputs": [],
   "source": [
    "data = {\n",
    "    \"time\": time, \n",
    "    \"cords\": \n",
    "\n",
    "\n",
    "    for i, lat in enumerate(ds.variables['lat'][:])\n",
    "    for j, lon in enumerate(ds.variables['lon'][:])\n",
    "}"
   ]
  },
  {
   "cell_type": "code",
   "execution_count": 95,
   "metadata": {},
   "outputs": [
    {
     "data": {
      "text/plain": [
       "<Axes: >"
      ]
     },
     "execution_count": 95,
     "metadata": {},
     "output_type": "execute_result"
    }
   ],
   "source": [
    "axes.flat[1]"
   ]
  },
  {
   "cell_type": "code",
   "execution_count": 74,
   "metadata": {},
   "outputs": [
    {
     "name": "stdout",
     "output_type": "stream",
     "text": [
      "2023-11-08\n"
     ]
    }
   ],
   "source": [
    "for i in range(367):\n",
    "    if np.log(ds.variables['co_conc'][i, 0, 0, 0]) > 6:\n",
    "        print(time[i])\n"
   ]
  },
  {
   "cell_type": "markdown",
   "metadata": {},
   "source": [
    "netcdf"
   ]
  },
  {
   "cell_type": "code",
   "execution_count": 3,
   "metadata": {},
   "outputs": [],
   "source": [
    "ds = nc.Dataset('data/3/adaptor.cams_regional_fc.retrieve-1711784804.7831938-5284-8-7a022bcb-9f4b-476b-ada5-450f77a5b403.nc')\n",
    "ds_1 = nc.Dataset('data/3/temprature_wind/POWER_Point_Daily_20240301_20240328_050d4500N_030d3500E_LST.nc')"
   ]
  },
  {
   "cell_type": "code",
   "execution_count": 4,
   "metadata": {},
   "outputs": [
    {
     "data": {
      "text/plain": [
       "dict_keys(['longitude', 'latitude', 'level', 'time', 'o3_conc'])"
      ]
     },
     "execution_count": 4,
     "metadata": {},
     "output_type": "execute_result"
    }
   ],
   "source": [
    "ds.variables.keys()"
   ]
  },
  {
   "cell_type": "code",
   "execution_count": 5,
   "metadata": {},
   "outputs": [
    {
     "data": {
      "text/plain": [
       "dict_keys(['T2M', 'WS10M', 'time', 'lat', 'lon'])"
      ]
     },
     "execution_count": 5,
     "metadata": {},
     "output_type": "execute_result"
    }
   ],
   "source": [
    "ds_1.variables.keys()"
   ]
  },
  {
   "cell_type": "code",
   "execution_count": 6,
   "metadata": {},
   "outputs": [
    {
     "data": {
      "text/plain": [
       "masked_array(data=[30.35, 30.45, 30.55, 30.65, 30.75],\n",
       "             mask=False,\n",
       "       fill_value=1e+20,\n",
       "            dtype=float32)"
      ]
     },
     "execution_count": 6,
     "metadata": {},
     "output_type": "execute_result"
    }
   ],
   "source": [
    "ds[\"longitude\"][:]"
   ]
  },
  {
   "cell_type": "code",
   "execution_count": 8,
   "metadata": {},
   "outputs": [],
   "source": [
    "O3 = ds[\"o3_conc\"][:, 0, 0, 0].data"
   ]
  },
  {
   "cell_type": "code",
   "execution_count": 9,
   "metadata": {},
   "outputs": [],
   "source": [
    "wind = ds_1[\"WS10M\"][:].data.T[0,0]"
   ]
  },
  {
   "cell_type": "code",
   "execution_count": 10,
   "metadata": {},
   "outputs": [],
   "source": [
    "\n",
    "temp = ds_1[\"T2M\"][:].data.T[0,0]"
   ]
  },
  {
   "cell_type": "code",
   "execution_count": 11,
   "metadata": {},
   "outputs": [
    {
     "name": "stdout",
     "output_type": "stream",
     "text": [
      "28\n",
      "28\n",
      "28\n"
     ]
    }
   ],
   "source": [
    "print(len(O3))\n",
    "print(len(wind))\n",
    "print(len(temp))"
   ]
  },
  {
   "cell_type": "code",
   "execution_count": 23,
   "metadata": {},
   "outputs": [],
   "source": [
    "params = np.array([wind, temp]).T"
   ]
  },
  {
   "cell_type": "code",
   "execution_count": 24,
   "metadata": {},
   "outputs": [],
   "source": [
    "model = LinearRegression().fit(params[:27], O3[:27])"
   ]
  },
  {
   "cell_type": "code",
   "execution_count": 16,
   "metadata": {},
   "outputs": [
    {
     "data": {
      "text/plain": [
       "array([0.5173282 , 0.47848004], dtype=float32)"
      ]
     },
     "execution_count": 16,
     "metadata": {},
     "output_type": "execute_result"
    }
   ],
   "source": [
    "model.coef_"
   ]
  },
  {
   "cell_type": "code",
   "execution_count": 14,
   "metadata": {},
   "outputs": [
    {
     "data": {
      "text/plain": [
       "59.62824"
      ]
     },
     "execution_count": 14,
     "metadata": {},
     "output_type": "execute_result"
    }
   ],
   "source": [
    "model.intercept_"
   ]
  },
  {
   "cell_type": "code",
   "execution_count": 18,
   "metadata": {},
   "outputs": [
    {
     "data": {
      "text/plain": [
       "67.64603"
      ]
     },
     "execution_count": 18,
     "metadata": {},
     "output_type": "execute_result"
    }
   ],
   "source": [
    "model.coef_[0] * wind[-1] + model.coef_[1] * temp[-1] + model.intercept_"
   ]
  },
  {
   "cell_type": "code",
   "execution_count": 21,
   "metadata": {},
   "outputs": [
    {
     "data": {
      "text/plain": [
       "array([67.64603], dtype=float32)"
      ]
     },
     "execution_count": 21,
     "metadata": {},
     "output_type": "execute_result"
    }
   ],
   "source": [
    "model.predict([[wind[-1], temp[-1]]])"
   ]
  },
  {
   "cell_type": "code",
   "execution_count": 26,
   "metadata": {},
   "outputs": [],
   "source": [
    "prediction = np.array(model.predict(params))"
   ]
  },
  {
   "cell_type": "code",
   "execution_count": 22,
   "metadata": {},
   "outputs": [
    {
     "data": {
      "text/plain": [
       "79.495834"
      ]
     },
     "execution_count": 22,
     "metadata": {},
     "output_type": "execute_result"
    }
   ],
   "source": [
    "O3[27]"
   ]
  },
  {
   "cell_type": "code",
   "execution_count": 33,
   "metadata": {},
   "outputs": [
    {
     "data": {
      "image/png": "[encoded data removed]",
      "text/plain": [
       "<Figure size 500x270 with 1 Axes>"
      ]
     },
     "metadata": {},
     "output_type": "display_data"
    }
   ],
   "source": [
    "fig, ax = plt.subplots(figsize=(5, 2.7))\n",
    "ax.plot(prediction)\n",
    "ax.plot(O3)\n",
    "ax.set_ylim([0, 100])\n",
    "plt.show()"
   ]
  },
  {
   "cell_type": "code",
   "execution_count": 47,
   "metadata": {},
   "outputs": [
    {
     "name": "stdout",
     "output_type": "stream",
     "text": [
      "max difference =  28.688492 = 3.7122946 % mean difference =  7.7279673 = 1.0 % \n"
     ]
    }
   ],
   "source": [
    "print(\"max difference = \", np.max(np.abs(prediction - O3)), \"=\", np.max(np.abs(prediction - O3)) / np.mean(np.abs(prediction - O3)), \"% \"\n",
    "      \"mean difference = \" ,np.mean(np.abs(prediction - O3)), \"=\" , np.mean(np.abs(prediction - O3)) / np.mean(np.abs(prediction - O3)), \"% \")"
   ]
  },
  {
   "cell_type": "markdown",
   "metadata": {},
   "source": [
    "Kaggle"
   ]
  },
  {
   "cell_type": "code",
   "execution_count": 48,
   "metadata": {},
   "outputs": [],
   "source": [
    "df = pd.read_csv('data/kaggle/onehr.data.xls')"
   ]
  },
  {
   "cell_type": "code",
   "execution_count": 18,
   "metadata": {},
   "outputs": [],
   "source": [
    "df.columns = [\"Date\",\"WSR0\",\"WSR1\",\"WSR2\",\"WSR3\",\"WSR4\",\"WSR5\",\"WSR6\",\"WSR7\",\"WSR8\",\"WSR9\",\"WSR10\",\"WSR11\",\"WSR12\",\"WSR13\",\"WSR14\",\"WSR15\",\"WSR16\",\"WSR17\",\"WSR18\",\"WSR19\",\"WSR20\",\"WSR21\",\"WSR22\",\"WSR23\",\"WSR_PK\",\"WSR_AV\",\"T0\",\"T1\",\"T2\",\"T3\",\"T4\",\"T5\",\"T6\",\"T7\",\"T8\",\"T9\",\"T10\",\"T11\",\"T12\",\"T13\",\"T14\",\"T15\",\"T16\",\"T17\",\"T18\",\"T19\",\"T20\",\"T21\",\"T22\",\"T23\",\"T_PK\",\"T_AV\",\"T85\",\"RH85\",\"U85\",\"V85\",\"HT85\",\"T70\",\"RH70\",\"U70\",\"V70\",\"HT70\",\"T50\",\"RH50\",\"U50\",\"V50\",\"HT50\",\"KI\",\"TT\",\"SLP\",\"SLP_\",\"Precp\",\"Target\"]"
   ]
  },
  {
   "cell_type": "code",
   "execution_count": 19,
   "metadata": {},
   "outputs": [
    {
     "data": {
      "text/html": [
       "<div>\n",
       "<style scoped>\n",
       "    .dataframe tbody tr th:only-of-type {\n",
       "        vertical-align: middle;\n",
       "    }\n",
       "\n",
       "    .dataframe tbody tr th {\n",
       "        vertical-align: top;\n",
       "    }\n",
       "\n",
       "    .dataframe thead th {\n",
       "        text-align: right;\n",
       "    }\n",
       "</style>\n",
       "<table border=\"1\" class=\"dataframe\">\n",
       "  <thead>\n",
       "    <tr style=\"text-align: right;\">\n",
       "      <th></th>\n",
       "      <th>Date</th>\n",
       "      <th>WSR0</th>\n",
       "      <th>WSR1</th>\n",
       "      <th>WSR2</th>\n",
       "      <th>WSR3</th>\n",
       "      <th>WSR4</th>\n",
       "      <th>WSR5</th>\n",
       "      <th>WSR6</th>\n",
       "      <th>WSR7</th>\n",
       "      <th>WSR8</th>\n",
       "      <th>...</th>\n",
       "      <th>RH50</th>\n",
       "      <th>U50</th>\n",
       "      <th>V50</th>\n",
       "      <th>HT50</th>\n",
       "      <th>KI</th>\n",
       "      <th>TT</th>\n",
       "      <th>SLP</th>\n",
       "      <th>SLP_</th>\n",
       "      <th>Precp</th>\n",
       "      <th>Target</th>\n",
       "    </tr>\n",
       "  </thead>\n",
       "  <tbody>\n",
       "    <tr>\n",
       "      <th>0</th>\n",
       "      <td>1/2/1998</td>\n",
       "      <td>2.8</td>\n",
       "      <td>3.2</td>\n",
       "      <td>3.3</td>\n",
       "      <td>2.7</td>\n",
       "      <td>3.3</td>\n",
       "      <td>3.2</td>\n",
       "      <td>2.9</td>\n",
       "      <td>2.8</td>\n",
       "      <td>3.1</td>\n",
       "      <td>...</td>\n",
       "      <td>0.48</td>\n",
       "      <td>8.39</td>\n",
       "      <td>3.84</td>\n",
       "      <td>5805</td>\n",
       "      <td>14.05</td>\n",
       "      <td>29</td>\n",
       "      <td>10275</td>\n",
       "      <td>-55</td>\n",
       "      <td>0</td>\n",
       "      <td>0.0</td>\n",
       "    </tr>\n",
       "    <tr>\n",
       "      <th>1</th>\n",
       "      <td>1/3/1998</td>\n",
       "      <td>2.9</td>\n",
       "      <td>2.8</td>\n",
       "      <td>2.6</td>\n",
       "      <td>2.1</td>\n",
       "      <td>2.2</td>\n",
       "      <td>2.5</td>\n",
       "      <td>2.5</td>\n",
       "      <td>2.7</td>\n",
       "      <td>2.2</td>\n",
       "      <td>...</td>\n",
       "      <td>0.6</td>\n",
       "      <td>6.94</td>\n",
       "      <td>9.8</td>\n",
       "      <td>5790</td>\n",
       "      <td>17.9</td>\n",
       "      <td>41.3</td>\n",
       "      <td>10235</td>\n",
       "      <td>-40</td>\n",
       "      <td>0</td>\n",
       "      <td>0.0</td>\n",
       "    </tr>\n",
       "    <tr>\n",
       "      <th>2</th>\n",
       "      <td>1/4/1998</td>\n",
       "      <td>4.7</td>\n",
       "      <td>3.8</td>\n",
       "      <td>3.7</td>\n",
       "      <td>3.8</td>\n",
       "      <td>2.9</td>\n",
       "      <td>3.1</td>\n",
       "      <td>2.8</td>\n",
       "      <td>2.5</td>\n",
       "      <td>2.4</td>\n",
       "      <td>...</td>\n",
       "      <td>0.49</td>\n",
       "      <td>8.73</td>\n",
       "      <td>10.54</td>\n",
       "      <td>5775</td>\n",
       "      <td>31.15</td>\n",
       "      <td>51.7</td>\n",
       "      <td>10195</td>\n",
       "      <td>-40</td>\n",
       "      <td>2.08</td>\n",
       "      <td>0.0</td>\n",
       "    </tr>\n",
       "    <tr>\n",
       "      <th>3</th>\n",
       "      <td>1/5/1998</td>\n",
       "      <td>2.6</td>\n",
       "      <td>2.1</td>\n",
       "      <td>1.6</td>\n",
       "      <td>1.4</td>\n",
       "      <td>0.9</td>\n",
       "      <td>1.5</td>\n",
       "      <td>1.2</td>\n",
       "      <td>1.4</td>\n",
       "      <td>1.3</td>\n",
       "      <td>...</td>\n",
       "      <td>?</td>\n",
       "      <td>?</td>\n",
       "      <td>?</td>\n",
       "      <td>?</td>\n",
       "      <td>?</td>\n",
       "      <td>?</td>\n",
       "      <td>?</td>\n",
       "      <td>?</td>\n",
       "      <td>0.58</td>\n",
       "      <td>0.0</td>\n",
       "    </tr>\n",
       "    <tr>\n",
       "      <th>4</th>\n",
       "      <td>1/6/1998</td>\n",
       "      <td>3.1</td>\n",
       "      <td>3.5</td>\n",
       "      <td>3.3</td>\n",
       "      <td>2.5</td>\n",
       "      <td>1.6</td>\n",
       "      <td>1.7</td>\n",
       "      <td>1.6</td>\n",
       "      <td>1.6</td>\n",
       "      <td>2.3</td>\n",
       "      <td>...</td>\n",
       "      <td>0.09</td>\n",
       "      <td>11.98</td>\n",
       "      <td>11.28</td>\n",
       "      <td>5770</td>\n",
       "      <td>27.95</td>\n",
       "      <td>46.25</td>\n",
       "      <td>10120</td>\n",
       "      <td>?</td>\n",
       "      <td>5.84</td>\n",
       "      <td>0.0</td>\n",
       "    </tr>\n",
       "    <tr>\n",
       "      <th>...</th>\n",
       "      <td>...</td>\n",
       "      <td>...</td>\n",
       "      <td>...</td>\n",
       "      <td>...</td>\n",
       "      <td>...</td>\n",
       "      <td>...</td>\n",
       "      <td>...</td>\n",
       "      <td>...</td>\n",
       "      <td>...</td>\n",
       "      <td>...</td>\n",
       "      <td>...</td>\n",
       "      <td>...</td>\n",
       "      <td>...</td>\n",
       "      <td>...</td>\n",
       "      <td>...</td>\n",
       "      <td>...</td>\n",
       "      <td>...</td>\n",
       "      <td>...</td>\n",
       "      <td>...</td>\n",
       "      <td>...</td>\n",
       "      <td>...</td>\n",
       "    </tr>\n",
       "    <tr>\n",
       "      <th>2530</th>\n",
       "      <td>12/27/2004</td>\n",
       "      <td>0.3</td>\n",
       "      <td>0.4</td>\n",
       "      <td>0.5</td>\n",
       "      <td>0.5</td>\n",
       "      <td>0.2</td>\n",
       "      <td>0.3</td>\n",
       "      <td>0.4</td>\n",
       "      <td>0.4</td>\n",
       "      <td>1.3</td>\n",
       "      <td>...</td>\n",
       "      <td>0.07</td>\n",
       "      <td>7.93</td>\n",
       "      <td>-4.41</td>\n",
       "      <td>5800</td>\n",
       "      <td>-25.6</td>\n",
       "      <td>21.8</td>\n",
       "      <td>10295</td>\n",
       "      <td>65</td>\n",
       "      <td>0</td>\n",
       "      <td>0.0</td>\n",
       "    </tr>\n",
       "    <tr>\n",
       "      <th>2531</th>\n",
       "      <td>12/28/2004</td>\n",
       "      <td>1</td>\n",
       "      <td>1.4</td>\n",
       "      <td>1.1</td>\n",
       "      <td>1.7</td>\n",
       "      <td>1.5</td>\n",
       "      <td>1.7</td>\n",
       "      <td>1.8</td>\n",
       "      <td>1.5</td>\n",
       "      <td>2.1</td>\n",
       "      <td>...</td>\n",
       "      <td>0.04</td>\n",
       "      <td>5.95</td>\n",
       "      <td>-1.14</td>\n",
       "      <td>5845</td>\n",
       "      <td>-19.4</td>\n",
       "      <td>19.1</td>\n",
       "      <td>10310</td>\n",
       "      <td>15</td>\n",
       "      <td>0</td>\n",
       "      <td>0.0</td>\n",
       "    </tr>\n",
       "    <tr>\n",
       "      <th>2532</th>\n",
       "      <td>12/29/2004</td>\n",
       "      <td>0.8</td>\n",
       "      <td>0.8</td>\n",
       "      <td>1.2</td>\n",
       "      <td>0.9</td>\n",
       "      <td>0.4</td>\n",
       "      <td>0.6</td>\n",
       "      <td>0.8</td>\n",
       "      <td>1.1</td>\n",
       "      <td>1.5</td>\n",
       "      <td>...</td>\n",
       "      <td>0.06</td>\n",
       "      <td>7.8</td>\n",
       "      <td>-0.64</td>\n",
       "      <td>5845</td>\n",
       "      <td>-9.6</td>\n",
       "      <td>35.2</td>\n",
       "      <td>10275</td>\n",
       "      <td>-35</td>\n",
       "      <td>0</td>\n",
       "      <td>0.0</td>\n",
       "    </tr>\n",
       "    <tr>\n",
       "      <th>2533</th>\n",
       "      <td>12/30/2004</td>\n",
       "      <td>1.3</td>\n",
       "      <td>0.9</td>\n",
       "      <td>1.5</td>\n",
       "      <td>1.2</td>\n",
       "      <td>1.6</td>\n",
       "      <td>1.8</td>\n",
       "      <td>1.1</td>\n",
       "      <td>1</td>\n",
       "      <td>1.9</td>\n",
       "      <td>...</td>\n",
       "      <td>0.25</td>\n",
       "      <td>7.72</td>\n",
       "      <td>-0.89</td>\n",
       "      <td>5845</td>\n",
       "      <td>-19.6</td>\n",
       "      <td>34.2</td>\n",
       "      <td>10245</td>\n",
       "      <td>-30</td>\n",
       "      <td>0.05</td>\n",
       "      <td>0.0</td>\n",
       "    </tr>\n",
       "    <tr>\n",
       "      <th>2534</th>\n",
       "      <td>12/31/2004</td>\n",
       "      <td>1.5</td>\n",
       "      <td>1.3</td>\n",
       "      <td>1.8</td>\n",
       "      <td>1.4</td>\n",
       "      <td>1.2</td>\n",
       "      <td>1.7</td>\n",
       "      <td>1.6</td>\n",
       "      <td>1.4</td>\n",
       "      <td>1.6</td>\n",
       "      <td>...</td>\n",
       "      <td>0.54</td>\n",
       "      <td>13.07</td>\n",
       "      <td>9.15</td>\n",
       "      <td>5820</td>\n",
       "      <td>1.95</td>\n",
       "      <td>39.35</td>\n",
       "      <td>10220</td>\n",
       "      <td>-25</td>\n",
       "      <td>0</td>\n",
       "      <td>0.0</td>\n",
       "    </tr>\n",
       "  </tbody>\n",
       "</table>\n",
       "<p>2535 rows × 74 columns</p>\n",
       "</div>"
      ],
      "text/plain": [
       "            Date WSR0 WSR1 WSR2 WSR3 WSR4 WSR5 WSR6 WSR7 WSR8  ...  RH50  \\\n",
       "0       1/2/1998  2.8  3.2  3.3  2.7  3.3  3.2  2.9  2.8  3.1  ...  0.48   \n",
       "1       1/3/1998  2.9  2.8  2.6  2.1  2.2  2.5  2.5  2.7  2.2  ...   0.6   \n",
       "2       1/4/1998  4.7  3.8  3.7  3.8  2.9  3.1  2.8  2.5  2.4  ...  0.49   \n",
       "3       1/5/1998  2.6  2.1  1.6  1.4  0.9  1.5  1.2  1.4  1.3  ...     ?   \n",
       "4       1/6/1998  3.1  3.5  3.3  2.5  1.6  1.7  1.6  1.6  2.3  ...  0.09   \n",
       "...          ...  ...  ...  ...  ...  ...  ...  ...  ...  ...  ...   ...   \n",
       "2530  12/27/2004  0.3  0.4  0.5  0.5  0.2  0.3  0.4  0.4  1.3  ...  0.07   \n",
       "2531  12/28/2004    1  1.4  1.1  1.7  1.5  1.7  1.8  1.5  2.1  ...  0.04   \n",
       "2532  12/29/2004  0.8  0.8  1.2  0.9  0.4  0.6  0.8  1.1  1.5  ...  0.06   \n",
       "2533  12/30/2004  1.3  0.9  1.5  1.2  1.6  1.8  1.1    1  1.9  ...  0.25   \n",
       "2534  12/31/2004  1.5  1.3  1.8  1.4  1.2  1.7  1.6  1.4  1.6  ...  0.54   \n",
       "\n",
       "        U50    V50  HT50     KI     TT    SLP SLP_ Precp Target  \n",
       "0      8.39   3.84  5805  14.05     29  10275  -55     0    0.0  \n",
       "1      6.94    9.8  5790   17.9   41.3  10235  -40     0    0.0  \n",
       "2      8.73  10.54  5775  31.15   51.7  10195  -40  2.08    0.0  \n",
       "3         ?      ?     ?      ?      ?      ?    ?  0.58    0.0  \n",
       "4     11.98  11.28  5770  27.95  46.25  10120    ?  5.84    0.0  \n",
       "...     ...    ...   ...    ...    ...    ...  ...   ...    ...  \n",
       "2530   7.93  -4.41  5800  -25.6   21.8  10295   65     0    0.0  \n",
       "2531   5.95  -1.14  5845  -19.4   19.1  10310   15     0    0.0  \n",
       "2532    7.8  -0.64  5845   -9.6   35.2  10275  -35     0    0.0  \n",
       "2533   7.72  -0.89  5845  -19.6   34.2  10245  -30  0.05    0.0  \n",
       "2534  13.07   9.15  5820   1.95  39.35  10220  -25     0    0.0  \n",
       "\n",
       "[2535 rows x 74 columns]"
      ]
     },
     "execution_count": 19,
     "metadata": {},
     "output_type": "execute_result"
    }
   ],
   "source": [
    "df"
   ]
  },
  {
   "cell_type": "code",
   "execution_count": null,
   "metadata": {},
   "outputs": [],
   "source": []
  },
  {
   "cell_type": "code",
   "execution_count": null,
   "metadata": {},
   "outputs": [],
   "source": []
  },
  {
   "cell_type": "code",
   "execution_count": 20,
   "metadata": {},
   "outputs": [],
   "source": [
    "data = nc.Dataset('data/2/adaptor.cams_regional_fc.retrieve-1706511910.699155-19398-7-0139e086-561b-430a-ad16-805bf0c3497a.nc')"
   ]
  },
  {
   "cell_type": "code",
   "execution_count": 21,
   "metadata": {},
   "outputs": [
    {
     "data": {
      "text/plain": [
       "dict_keys(['longitude', 'latitude', 'level', 'time', 'o3_conc'])"
      ]
     },
     "execution_count": 21,
     "metadata": {},
     "output_type": "execute_result"
    }
   ],
   "source": [
    "data.variables.keys()"
   ]
  },
  {
   "cell_type": "code",
   "execution_count": 22,
   "metadata": {},
   "outputs": [
    {
     "data": {
      "text/plain": [
       "<class 'netCDF4._netCDF4.Variable'>\n",
       "float32 o3_conc(time, level, latitude, longitude)\n",
       "    _FillValue: -999.0\n",
       "    species: Ozone\n",
       "    units: µg/m3\n",
       "    value: hourly values\n",
       "    standard_name: mass_concentration_of_ozone_in_air\n",
       "unlimited dimensions: time\n",
       "current shape = (1, 10, 3, 3)\n",
       "filling on"
      ]
     },
     "execution_count": 22,
     "metadata": {},
     "output_type": "execute_result"
    }
   ],
   "source": [
    "data['o3_conc']"
   ]
  },
  {
   "cell_type": "code",
   "execution_count": 23,
   "metadata": {},
   "outputs": [
    {
     "data": {
      "text/plain": [
       "<class 'netCDF4._netCDF4.Variable'>\n",
       "float32 latitude(latitude)\n",
       "    long_name: latitude\n",
       "    units: degrees_north\n",
       "unlimited dimensions: \n",
       "current shape = (3,)\n",
       "filling on, default _FillValue of 9.969209968386869e+36 used"
      ]
     },
     "execution_count": 23,
     "metadata": {},
     "output_type": "execute_result"
    }
   ],
   "source": [
    "data['latitude']"
   ]
  },
  {
   "cell_type": "code",
   "execution_count": 24,
   "metadata": {},
   "outputs": [
    {
     "data": {
      "text/plain": [
       "<class 'netCDF4._netCDF4.Variable'>\n",
       "float32 level(level)\n",
       "    long_name: level\n",
       "    units: m\n",
       "unlimited dimensions: \n",
       "current shape = (10,)\n",
       "filling on, default _FillValue of 9.969209968386869e+36 used"
      ]
     },
     "execution_count": 24,
     "metadata": {},
     "output_type": "execute_result"
    }
   ],
   "source": [
    "data['level']"
   ]
  }
 ],
 "metadata": {
  "kernelspec": {
   "display_name": "base",
   "language": "python",
   "name": "python3"
  },
  "language_info": {
   "codemirror_mode": {
    "name": "ipython",
    "version": 3
   },
   "file_extension": ".py",
   "mimetype": "text/x-python",
   "name": "python",
   "nbconvert_exporter": "python",
   "pygments_lexer": "ipython3",
   "version": "3.11.5"
  }
 },
 "nbformat": 4,
 "nbformat_minor": 2
}
